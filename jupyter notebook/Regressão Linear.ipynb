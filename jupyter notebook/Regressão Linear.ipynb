{
 "cells": [
  {
   "cell_type": "markdown",
   "metadata": {},
   "source": [
    "\n",
    "    "
   ]
  },
  {
   "cell_type": "markdown",
   "metadata": {},
   "source": [
    "# Regressão Linear Simples\n",
    "\n",
    "## Gradiente descendente\n",
    "\n",
    "Neste documento usarei gradiente descendente como estratégia de otimização para regressão linear. O código abaixo é executado com uma base de dados (income.csv) contendo anos de escolaridade versus salário. Usarei, a princípio, a taxa de aprendizagem de 0.0001 e o número de iterações igual a 1000.\n",
    "\n",
    "Percebe-se que, após 1000 iterações, o valor de **b ou w0** (coeficiente linear) foi de -0.18234255376510086, o valor de **m ou w1**(coeficiente angular) foi de 3.262182267596014 e o erro foi de 103.39842291729676. Inicialmente, para **b** = **m** = 0, o erro era de 2946.6344970460195."
   ]
  },
  {
   "cell_type": "code",
   "execution_count": 1,
   "metadata": {},
   "outputs": [
    {
     "name": "stdout",
     "output_type": "stream",
     "text": [
      "Starting gradient descent at b = 0, m = 0, error = 2946.6344970460195\n",
      "Running...\n",
      "After 1000 iterations b = -0.18234255376510086, m = 3.262182267596014, error = 103.39842291729676\n"
     ]
    }
   ],
   "source": [
    "from numpy import *\n",
    "\n",
    "def compute_error_for_given_points(b, m, points):\n",
    "    total_error = 0\n",
    "    \n",
    "    for i in range(0, len(points)):\n",
    "        x = points[i, 0]\n",
    "        y = points[i, 1]        \n",
    "        total_error += (y - (m * x + b)) **2 \n",
    "        \n",
    "    return total_error / float(len(points))\n",
    "        \n",
    "\n",
    "\n",
    "def step_gradient(b_current, m_current, points, learning_rate):\n",
    "    # gradient descent\n",
    "    b_gradient = 0\n",
    "    m_gradient = 0\n",
    "    N = float(len(points))\n",
    "    \n",
    "    for i in range(0, len(points)):\n",
    "        x = points[i, 0]\n",
    "        y = points[i, 1]\n",
    "        b_gradient += -(2/N) * (y - ((m_current * x) + b_current))\n",
    "        m_gradient += -(2/N) * x * (y - ((m_current * x) + b_current))\n",
    "        \n",
    "    new_b = b_current - (learning_rate * b_gradient)\n",
    "    new_m = m_current - (learning_rate * m_gradient)\n",
    "    return [new_b, new_m]\n",
    "    \n",
    "\n",
    "def gradient_descent_runner(points, starting_b, starting_m, learning_rate, num_iterations):\n",
    "    b = starting_b\n",
    "    m = starting_m\n",
    "    \n",
    "    for i in range(num_iterations):\n",
    "        b, m = step_gradient(b, m, array(points), learning_rate)\n",
    "    return [b, m]\n",
    "        \n",
    "\n",
    "def run():\n",
    "    points = genfromtxt('income.csv', delimiter=\",\")    \n",
    "    learning_rate = 0.0001\n",
    "    #y = mx + b (slope formula)\n",
    "    initial_b = 0\n",
    "    initial_m = 0\n",
    "    num_iterations = 1000\n",
    "       \n",
    "    print(\"Starting gradient descent at b = {0}, m = {1}, error = {2}\".format(initial_b, initial_m, compute_error_for_given_points(initial_b, initial_m, points)))\n",
    "    print(\"Running...\")\n",
    "    [b, m] = gradient_descent_runner(points, initial_b, initial_m, learning_rate, num_iterations)\n",
    "    print(\"After {0} iterations b = {1}, m = {2}, error = {3}\".format(num_iterations, b, m, compute_error_for_given_points(b, m, points)))\n",
    "    \n",
    "\n",
    "run()\n"
   ]
  },
  {
   "cell_type": "markdown",
   "metadata": {},
   "source": [
    "### RSS\n",
    "\n",
    "Vamos agora imprimir o RSS (soma dos erros quadrados) a cada iteração do gradiente descendente. \n",
    "Para isso, definirei a função *compute_rss* que será chamara a cada iteração da função *gradient_descent_runner*.\n",
    "\n",
    "Como é possível perceber, o valor do RSS cai a cada iteração, sendo essa queda maior nas primeiras iterações. Para facilitar a visualização, um gráfico com os valores do RSS foi plotado. O eixo x, que representa o número de iterações, é exibido em escala logarítmica, para que fique mais fácil de visualizar o valor do RSS decrescendo.\n",
    " "
   ]
  },
  {
   "cell_type": "code",
   "execution_count": 3,
   "metadata": {},
   "outputs": [
    {
     "name": "stdout",
     "output_type": "stream",
     "text": [
      "Starting gradient descent at b = 0, m = 0, error = 2946.6344970460195\n",
      "Running...\n"
     ]
    },
    {
     "data": {
      "image/png": "[encoded data removed]",
      "text/plain": [
       "<Figure size 432x288 with 1 Axes>"
      ]
     },
     "metadata": {},
     "output_type": "display_data"
    },
    {
     "name": "stdout",
     "output_type": "stream",
     "text": [
      "After 1000 iterations b = -0.18234255376510086, m = 3.262182267596014, error = 103.39842291729676\n"
     ]
    }
   ],
   "source": [
    "import matplotlib.pyplot as plt\n",
    "\n",
    "def compute_rss(b, m, points):\n",
    "    total_error = 0\n",
    "    \n",
    "    for i in range(0, len(points)):\n",
    "        x = points[i, 0]\n",
    "        y = points[i, 1]        \n",
    "        total_error += (y - (m * x + b)) **2 \n",
    "        \n",
    "    return total_error\n",
    "        \n",
    "def plot_rss(rss_array):\n",
    "    iterations_array = range(1, len(rss_array)+1)\n",
    "    plt.scatter(iterations_array, rss_array, alpha=0.5, s=100, c=\"purple\",)\n",
    "    plt.xlabel(\"Iterations\")\n",
    "    plt.ylabel(\"RSS\")\n",
    "    plt.xscale('log')\n",
    "    plt.show()\n",
    "\n",
    "def gradient_descent_runner(points, starting_b, starting_m, learning_rate, num_iterations):\n",
    "    b = starting_b\n",
    "    m = starting_m\n",
    "    rss_array = []\n",
    "    \n",
    "    for i in range(num_iterations):\n",
    "        b, m = step_gradient(b, m, array(points), learning_rate)\n",
    "        \n",
    "        rss_current = compute_rss(b, m, points)\n",
    "        rss_array.append(rss_current)        \n",
    "        #print('RSS = {0} - ITERATION = {1}'.format(rss_current, i+1))\n",
    "    \n",
    "    plot_rss(rss_array)   \n",
    "    \n",
    "    return [b, m]\n",
    "\n",
    "run()"
   ]
  },
  {
   "cell_type": "markdown",
   "metadata": {},
   "source": [
    "## Variar número de iterações e taxa de aprendizado\n",
    "\n",
    "A seguir, irei mudar as variáveis **num_iterations** e **learning_rate** até que os valores de **b** e **m** se aproximem de -39 e 5, respectivamente.\n",
    "\n",
    "Para isso, irei modificar o loop da função *gradient_descent_runner*. No lugar o *for*, colocarei um *while* até que os valores de **b** e **m** se aproximem do desejado. Assim, a única preocupação fica sendo variar a taxa de aprendizado (variável **learning_rate**). \n",
    "\n",
    "Após variar a taxa de aprendizado entre 0.0001 e 0.004, percebi duas coisas: 1) No intervalo de 0.0001 até 0.003 (à medida que esse valor aumenta), o número de iterações até que o algoritmo convirja diminui. Isso é óbvio, porque o algoritmo está aprendendo mais rápido. 2) Também percebi que, aparentemente, o valor 0.003 é ótimo nesse caso. Isso porque se o valor for maior ou igual a 0.004, o algoritmo erra e retorna valores *nan*.\n",
    "\n",
    "Então, como é possível perceber pela saída, os valores necessários para que **b** se aproxime de -39 (b = -39.00012177355754) e **m** se aproxime de 5 (m = 5.57292537447843) são: **num_iterations = 15724** e **leaning_rate = 0.003**. "
   ]
  },
  {
   "cell_type": "code",
   "execution_count": 4,
   "metadata": {},
   "outputs": [
    {
     "name": "stdout",
     "output_type": "stream",
     "text": [
      "After 15724 iterations, with leaning rate = 0.003: b = -39.00012177355754, m = 5.57292537447843\n"
     ]
    }
   ],
   "source": [
    "def gradient_descent_runner(points, starting_b, starting_m, learning_rate):\n",
    "    b = starting_b\n",
    "    m = starting_m\n",
    "    \n",
    "    iteration = 0;\n",
    "    while (not (b > -40 and b < -39)) or (not (m > 5 and m < 6)):    \n",
    "        \n",
    "        b, m = step_gradient(b, m, array(points), learning_rate)\n",
    "        \n",
    "        iteration += 1\n",
    "        #print('b = {0}, m = {1}, iteration = {2}'.format(b, m, iteration))        \n",
    "            \n",
    "    print('After {0} iterations, with leaning rate = {1}: b = {2}, m = {3}'.format(iteration, learning_rate, b, m))\n",
    "    return [b, m]\n",
    "        \n",
    "def run():\n",
    "    points = genfromtxt('income.csv', delimiter=\",\")\n",
    "    #hyper parameters\n",
    "    learning_rate = 0.003\n",
    "    \n",
    "    #y = mx + b (slope formula)\n",
    "    initial_b = 0\n",
    "    initial_m = 0  \n",
    "    \n",
    "    [b, m] = gradient_descent_runner(points, initial_b, initial_m, learning_rate)\n",
    "       \n",
    "\n",
    "run()"
   ]
  },
  {
   "cell_type": "markdown",
   "metadata": {},
   "source": [
    "## Gradiente como critério de parada\n",
    "\n",
    "Agora, vamos utilizar o gradiente como critério de parada. Para isso, mudarei a condição do *while* da função *gradient_descent_runner*. \n",
    "\n",
    "Para usar o gradiente no *while*, utilizei a raiz quadrada da soma dos quadrados das variáveis **b_gradient** e **m_gradient**. Esse valor deve ser menor que a tolerância definida para que o algoritmo convirja.\n",
    "\n",
    "Para que os valores de **b** e **m** ficassem próximos aos valores encontrados no tópico anterior, a tolerância definida (variável **tolerance**) foi de **0.04**.\n",
    "\n",
    "Um gráfico com os valores do gradiente vs. o número de iterações é exibido. É possível perceber melhor que o gradiente está decrescendo porque o eixo x, que representa o número de iterações, está em escala logarítmica.\n"
   ]
  },
  {
   "cell_type": "code",
   "execution_count": 5,
   "metadata": {},
   "outputs": [
    {
     "name": "stdout",
     "output_type": "stream",
     "text": [
      "After 15938 iterations, b = -39.026550442698195, m = 5.574498619168578: Gradient = 0.03999838727484985 and Tolerance = 0.04\n"
     ]
    },
    {
     "data": {
      "image/png": "[encoded data removed]",
      "text/plain": [
       "<Figure size 432x288 with 1 Axes>"
      ]
     },
     "metadata": {},
     "output_type": "display_data"
    },
    {
     "name": "stdout",
     "output_type": "stream",
     "text": [
      "Execution Time: 1.1011512279510498 seconds\n"
     ]
    }
   ],
   "source": [
    "import time\n",
    "import matplotlib.pyplot as plte\n",
    "\n",
    "def step_gradient(b_current, m_current, points, learning_rate):\n",
    "    #gradient descent\n",
    "    b_gradient = 0\n",
    "    m_gradient = 0\n",
    "    N = float(len(points))\n",
    "        \n",
    "    for i in range(0, len(points)):\n",
    "        x = points[i, 0]\n",
    "        y = points[i, 1]\n",
    "        b_gradient += -(2/N) * (y - ((m_current * x) + b_current))\n",
    "        m_gradient += -(2/N) * x * (y - ((m_current * x) + b_current))\n",
    "        \n",
    "        \n",
    "    new_b = b_current - (learning_rate * b_gradient)\n",
    "    new_m = m_current - (learning_rate * m_gradient)\n",
    "    \n",
    "    \n",
    "    return [new_b, new_m, b_gradient, m_gradient]\n",
    "\n",
    "def plot_gradient(gradient_array):\n",
    "    iterations_array = range(1, len(gradient_array)+1)\n",
    "    plte.scatter(iterations_array, gradient_array, alpha=0.5, s=100, c=\"purple\",)\n",
    "    plte.xlabel(\"Iterations\")\n",
    "    plte.ylabel(\"Gradient\")\n",
    "    plte.xscale('log')\n",
    "    plte.show()\n",
    "\n",
    "def gradient_descent_runner(points, starting_b, starting_m, learning_rate, num_iterations, tolerance):\n",
    "    b = starting_b\n",
    "    m = starting_m\n",
    "    b_gradient = 0 \n",
    "    m_gradient = 0    \n",
    "    gradient = None\n",
    "    gradient_array = []\n",
    "    \n",
    "    iterations = 0;\n",
    "    while gradient == None or gradient >= tolerance:\n",
    "        \n",
    "        b, m, b_gradient, m_gradient = step_gradient(b, m, array(points), learning_rate)                   \n",
    "        \n",
    "        gradient = math.sqrt(b_gradient**2 + m_gradient**2)\n",
    "        gradient_array.append(gradient)\n",
    "        iterations += 1\n",
    "        #print('gradient = {0}, b = {1}, m = {2} - ITERATION {3}'.format(gradient, b, m, iterations))\n",
    "        \n",
    "    print('After {0} iterations, b = {1}, m = {2}: Gradient = {3} and Tolerance = {4}'.format(iterations, b, m, gradient, tolerance))\n",
    "    \n",
    "    plot_gradient(gradient_array)\n",
    "    \n",
    "    return [b, m]\n",
    "        \n",
    "\n",
    "def run():\n",
    "    points = genfromtxt('income.csv', delimiter=\",\")\n",
    "    #hyper parameters\n",
    "    learning_rate = 0.003\n",
    "    #y = mx + b (slope formula)\n",
    "    initial_b = 0\n",
    "    initial_m = 0\n",
    "    num_iterations = 1000\n",
    "    tolerance = 0.04\n",
    "       \n",
    "    [b, m] = gradient_descent_runner(points, initial_b, initial_m, learning_rate, num_iterations, tolerance)\n",
    "    \n",
    "\n",
    "start_time = time.time()   \n",
    "run()\n",
    "print(\"Execution Time: {0} seconds\".format(time.time() - start_time))"
   ]
  },
  {
   "cell_type": "markdown",
   "metadata": {},
   "source": [
    "## Forma fechada de calcular os coeficientes de regressão\n",
    "\n",
    "Defini uma nova função para o cálculo dos valores de **b** e **m**, a função *simple_reg*.\n",
    "A cada iteração chamei a nova função. \n",
    "O número de iterações (variável **num_iterations**) foi setado para **15938**, mesma quantidade de iterações retornada no tópico anterior. Dessa forma, podemos comparar  o tempo de execução dos dois algoritmos.\n",
    "\n",
    "Como é possível perceber, essa forma fechada de calcular os coeficientes mostrou-se mais rápida que a forma do algoritmo do tópico anterior (Ver saídas: **Execution Time:....**)."
   ]
  },
  {
   "cell_type": "code",
   "execution_count": 6,
   "metadata": {},
   "outputs": [
    {
     "name": "stdout",
     "output_type": "stream",
     "text": [
      "After 15938 iterations, b = -39.44625667909617, m = 5.599482874119919\n",
      "Execution Time: 0.7396163940429688 seconds\n"
     ]
    }
   ],
   "source": [
    "def simple_reg(points):\n",
    "    tempx = 0\n",
    "    tempy = 0\n",
    "    N = len(points)\n",
    "    \n",
    "    for i in range(0, N):\n",
    "        xi = points[i, 0]\n",
    "        yi = points[i, 1]\n",
    "        tempx += xi\n",
    "        tempy += yi\n",
    "        \n",
    "    x = tempx / float(N)\n",
    "    y = tempy / float(N)\n",
    "    \n",
    "    a = 0\n",
    "    b = 0    \n",
    "    for i in range(0, N):\n",
    "        xi = points[i, 0]\n",
    "        yi = points[i, 1]\n",
    "        a = a + (xi - x) * (yi - y)\n",
    "        b = b + (xi - x)**2\n",
    "        \n",
    "    w1 = a/b\n",
    "    w0 = y - w1*x\n",
    "    return [w0,w1]\n",
    "    \n",
    "def gradient_descent_runner(points, starting_b, starting_m, num_iterations):\n",
    "    b = starting_b\n",
    "    m = starting_m\n",
    "    b_gradient = 0 \n",
    "    m_gradient = 0    \n",
    "    gradient = None\n",
    "    \n",
    "    for i in range(0, num_iterations):        \n",
    "        b, m = simple_reg(array(points))                  \n",
    "        \n",
    "    print('After {0} iterations, b = {1}, m = {2}'.format(num_iterations, b, m))  \n",
    "    \n",
    "    \n",
    "    return [b, m]\n",
    "        \n",
    "\n",
    "def run():\n",
    "    points = genfromtxt('income.csv', delimiter=\",\")\n",
    "    \n",
    "    #y = mx + b (slope formula)\n",
    "    initial_b = 0\n",
    "    initial_m = 0\n",
    "    num_iterations = 15938 \n",
    "       \n",
    "    [b, m] = gradient_descent_runner(points, initial_b, initial_m, num_iterations)\n",
    "    \n",
    "\n",
    "start_time = time.time()   \n",
    "run()\n",
    "print(\"Execution Time: {0} seconds\".format(time.time() - start_time))"
   ]
  }
 ],
 "metadata": {
  "kernelspec": {
   "display_name": "Python 3",
   "language": "python",
   "name": "python3"
  },
  "language_info": {
   "codemirror_mode": {
    "name": "ipython",
    "version": 3
   },
   "file_extension": ".py",
   "mimetype": "text/x-python",
   "name": "python",
   "nbconvert_exporter": "python",
   "pygments_lexer": "ipython3",
   "version": "3.6.5"
  }
 },
 "nbformat": 4,
 "nbformat_minor": 2
}
