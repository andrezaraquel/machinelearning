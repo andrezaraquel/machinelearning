{
 "cells": [
  {
   "cell_type": "markdown",
   "metadata": {},
   "source": [
    "# Previsão de Eleição de Deputados"
   ]
  },
  {
   "cell_type": "markdown",
   "metadata": {},
   "source": [
    "Neste notebook vamos usar classificadores para prever se candidatos ao cargo de Deputado Federal serão eleitos.\n",
    "Para isso, usaremos os seguintes dados:"
   ]
  },
  {
   "cell_type": "markdown",
   "metadata": {},
   "source": [
    "### Dados"
   ]
  },
  {
   "cell_type": "markdown",
   "metadata": {},
   "source": [
    "Os dados utilizados correspondem aos das eleições de Deputado Federal nos anos de 2006, 2010 e 2014. Estão dividos nas seguintes colunas:\n",
    "\n",
    "* **ano:** Ano da eleição;\n",
    "* **sequencial_candidato:** O identificador do candidato. Corresponde à coluna Id do arquivo de submissão;\n",
    "* **nome:** Nome do candidato;\n",
    "* **uf:**  Sigla do estado do candidato;\n",
    "* **partido:** Partido do candidato;\n",
    "* **quantidade_doacoes:** Número de doações que um candidato recebeu;\n",
    "* **quantidade_doadores:** Número de doadores que um candidato teve;\n",
    "* **total_receita:** Total de receita de um candidato;\n",
    "* **media_receita:** Média da receita de um candidato;\n",
    "* **recursos_de_outros_candidatos.comites:** Total de receita proveniente de outros candidatos e comitês;\n",
    "* **recursos_de_pessoas_fisicas:** Total de receita proveniente de pessoas físicas;\n",
    "* **recursos_de_pessoas_juridicas:** Total de receita proveniente de pessoas juridicas;\n",
    "* **recursos_proprios:** Total de receita proveniente dos próprios candidatos;\n",
    "* **recursos_de_partido_politico:** Total de receita proveniente do partido do candidato;\n",
    "* **quantidade_despesas:** Número de despesas que um candidato teve;\n",
    "* **quantidade_fornecedores:** Número de fornecedores que um candidato teve;\n",
    "* **total_despesa:** Total de depesa de um candidato;\n",
    "* **media_despesa:** Média da despesa de um candidato;\n",
    "* **cargo:** Cargo ao qual o candidato está concorrendo;\n",
    "* **sexo:** Sexo do candidato;\n",
    "* **grau:** Grau de escolaridade do candidato;\n",
    "* **estado_civil:** Estado civil do candidato;\n",
    "* **ocupacao:** Ocupação do candidato;\n",
    "* **situacao:** Situação final do candidato. Corresponde à coluna Predict do arquivo de submissão;"
   ]
  },
  {
   "cell_type": "markdown",
   "metadata": {},
   "source": [
    "Esses dados estão divididos em:\n",
    "\n",
    "* **train.csv:** Este é o conjunto de treino que será utilizado para treinar o modelo. Para o treino serão utilizados os dados das eleições dos anos de 2006 e 2010;\n",
    "* **unlabeled.csv:** Este é o conjunto, composto por uma parte dos dados de 2014, que será usado na previsão. "
   ]
  },
  {
   "cell_type": "markdown",
   "metadata": {},
   "source": [
    "### Bibliotecas"
   ]
  },
  {
   "cell_type": "code",
   "execution_count": 1,
   "metadata": {},
   "outputs": [],
   "source": [
    "import pandas as pd\n",
    "import numpy as np\n",
    "import matplotlib.pyplot as plt\n",
    "\n",
    "from sklearn.model_selection import train_test_split\n",
    "from sklearn.neighbors import KNeighborsClassifier\n",
    "from sklearn.model_selection import cross_val_score\n",
    "from sklearn.linear_model import LogisticRegression\n",
    "from sklearn.ensemble import AdaBoostClassifier\n",
    "\n"
   ]
  },
  {
   "cell_type": "markdown",
   "metadata": {},
   "source": [
    "### Lendo e limpando dados"
   ]
  },
  {
   "cell_type": "code",
   "execution_count": 2,
   "metadata": {},
   "outputs": [
    {
     "data": {
      "text/html": [
       "<div>\n",
       "<style scoped>\n",
       "    .dataframe tbody tr th:only-of-type {\n",
       "        vertical-align: middle;\n",
       "    }\n",
       "\n",
       "    .dataframe tbody tr th {\n",
       "        vertical-align: top;\n",
       "    }\n",
       "\n",
       "    .dataframe thead th {\n",
       "        text-align: right;\n",
       "    }\n",
       "</style>\n",
       "<table border=\"1\" class=\"dataframe\">\n",
       "  <thead>\n",
       "    <tr style=\"text-align: right;\">\n",
       "      <th></th>\n",
       "      <th>ano</th>\n",
       "      <th>sequencial_candidato</th>\n",
       "      <th>partido</th>\n",
       "      <th>quantidade_doacoes</th>\n",
       "      <th>quantidade_doadores</th>\n",
       "      <th>total_receita</th>\n",
       "      <th>recursos_de_outros_candidatos.comites</th>\n",
       "      <th>recursos_de_pessoas_fisicas</th>\n",
       "      <th>recursos_de_pessoas_juridicas</th>\n",
       "      <th>recursos_proprios</th>\n",
       "      <th>recursos_de_partido_politico</th>\n",
       "      <th>quantidade_despesas</th>\n",
       "      <th>quantidade_fornecedores</th>\n",
       "      <th>total_despesa</th>\n",
       "      <th>sexo</th>\n",
       "      <th>grau</th>\n",
       "      <th>situacao</th>\n",
       "    </tr>\n",
       "  </thead>\n",
       "  <tbody>\n",
       "    <tr>\n",
       "      <th>0</th>\n",
       "      <td>2006</td>\n",
       "      <td>10001</td>\n",
       "      <td>PT</td>\n",
       "      <td>6</td>\n",
       "      <td>6</td>\n",
       "      <td>16600.00</td>\n",
       "      <td>0.0</td>\n",
       "      <td>9000.0</td>\n",
       "      <td>6300.00</td>\n",
       "      <td>1300.0</td>\n",
       "      <td>0.0</td>\n",
       "      <td>14</td>\n",
       "      <td>14</td>\n",
       "      <td>16583.60</td>\n",
       "      <td>MASCULINO</td>\n",
       "      <td>ENSINO MÉDIO COMPLETO</td>\n",
       "      <td>nao_eleito</td>\n",
       "    </tr>\n",
       "    <tr>\n",
       "      <th>1</th>\n",
       "      <td>2006</td>\n",
       "      <td>10002</td>\n",
       "      <td>PT</td>\n",
       "      <td>13</td>\n",
       "      <td>13</td>\n",
       "      <td>22826.00</td>\n",
       "      <td>6625.0</td>\n",
       "      <td>15000.0</td>\n",
       "      <td>1000.00</td>\n",
       "      <td>201.0</td>\n",
       "      <td>0.0</td>\n",
       "      <td>24</td>\n",
       "      <td>23</td>\n",
       "      <td>20325.99</td>\n",
       "      <td>FEMININO</td>\n",
       "      <td>SUPERIOR COMPLETO</td>\n",
       "      <td>nao_eleito</td>\n",
       "    </tr>\n",
       "    <tr>\n",
       "      <th>2</th>\n",
       "      <td>2006</td>\n",
       "      <td>10002</td>\n",
       "      <td>PT</td>\n",
       "      <td>17</td>\n",
       "      <td>16</td>\n",
       "      <td>158120.80</td>\n",
       "      <td>2250.0</td>\n",
       "      <td>34150.0</td>\n",
       "      <td>62220.80</td>\n",
       "      <td>59500.0</td>\n",
       "      <td>0.0</td>\n",
       "      <td>123</td>\n",
       "      <td>108</td>\n",
       "      <td>146011.70</td>\n",
       "      <td>FEMININO</td>\n",
       "      <td>SUPERIOR COMPLETO</td>\n",
       "      <td>eleito</td>\n",
       "    </tr>\n",
       "    <tr>\n",
       "      <th>3</th>\n",
       "      <td>2006</td>\n",
       "      <td>10002</td>\n",
       "      <td>PRONA</td>\n",
       "      <td>6</td>\n",
       "      <td>6</td>\n",
       "      <td>3001.12</td>\n",
       "      <td>0.0</td>\n",
       "      <td>1150.0</td>\n",
       "      <td>1101.12</td>\n",
       "      <td>750.0</td>\n",
       "      <td>0.0</td>\n",
       "      <td>8</td>\n",
       "      <td>8</td>\n",
       "      <td>3001.12</td>\n",
       "      <td>MASCULINO</td>\n",
       "      <td>ENSINO MÉDIO INCOMPLETO</td>\n",
       "      <td>nao_eleito</td>\n",
       "    </tr>\n",
       "    <tr>\n",
       "      <th>4</th>\n",
       "      <td>2006</td>\n",
       "      <td>10003</td>\n",
       "      <td>PT</td>\n",
       "      <td>48</td>\n",
       "      <td>48</td>\n",
       "      <td>119820.00</td>\n",
       "      <td>0.0</td>\n",
       "      <td>50878.0</td>\n",
       "      <td>0.00</td>\n",
       "      <td>68942.0</td>\n",
       "      <td>0.0</td>\n",
       "      <td>133</td>\n",
       "      <td>120</td>\n",
       "      <td>116416.64</td>\n",
       "      <td>MASCULINO</td>\n",
       "      <td>ENSINO FUNDAMENTAL COMPLETO</td>\n",
       "      <td>eleito</td>\n",
       "    </tr>\n",
       "  </tbody>\n",
       "</table>\n",
       "</div>"
      ],
      "text/plain": [
       "    ano  sequencial_candidato partido  quantidade_doacoes  \\\n",
       "0  2006                 10001      PT                   6   \n",
       "1  2006                 10002      PT                  13   \n",
       "2  2006                 10002      PT                  17   \n",
       "3  2006                 10002   PRONA                   6   \n",
       "4  2006                 10003      PT                  48   \n",
       "\n",
       "   quantidade_doadores  total_receita  recursos_de_outros_candidatos.comites  \\\n",
       "0                    6       16600.00                                    0.0   \n",
       "1                   13       22826.00                                 6625.0   \n",
       "2                   16      158120.80                                 2250.0   \n",
       "3                    6        3001.12                                    0.0   \n",
       "4                   48      119820.00                                    0.0   \n",
       "\n",
       "   recursos_de_pessoas_fisicas  recursos_de_pessoas_juridicas  \\\n",
       "0                       9000.0                        6300.00   \n",
       "1                      15000.0                        1000.00   \n",
       "2                      34150.0                       62220.80   \n",
       "3                       1150.0                        1101.12   \n",
       "4                      50878.0                           0.00   \n",
       "\n",
       "   recursos_proprios  recursos_de_partido_politico  quantidade_despesas  \\\n",
       "0             1300.0                           0.0                   14   \n",
       "1              201.0                           0.0                   24   \n",
       "2            59500.0                           0.0                  123   \n",
       "3              750.0                           0.0                    8   \n",
       "4            68942.0                           0.0                  133   \n",
       "\n",
       "   quantidade_fornecedores  total_despesa       sexo  \\\n",
       "0                       14       16583.60  MASCULINO   \n",
       "1                       23       20325.99   FEMININO   \n",
       "2                      108      146011.70   FEMININO   \n",
       "3                        8        3001.12  MASCULINO   \n",
       "4                      120      116416.64  MASCULINO   \n",
       "\n",
       "                          grau    situacao  \n",
       "0        ENSINO MÉDIO COMPLETO  nao_eleito  \n",
       "1            SUPERIOR COMPLETO  nao_eleito  \n",
       "2            SUPERIOR COMPLETO      eleito  \n",
       "3      ENSINO MÉDIO INCOMPLETO  nao_eleito  \n",
       "4  ENSINO FUNDAMENTAL COMPLETO      eleito  "
      ]
     },
     "execution_count": 2,
     "metadata": {},
     "output_type": "execute_result"
    }
   ],
   "source": [
    "labeled = pd.read_csv(\"data/train.csv\").drop(\"nome\", 1).drop(\"uf\", 1).drop(\"media_receita\", 1).drop(\"media_despesa\", 1).drop(\"cargo\", 1).drop(\"estado_civil\", 1).drop(\"ocupacao\", 1)\n",
    "\n",
    "\n",
    "df_labeled = pd.DataFrame(labeled) # load the dataset as a pandas data frame\n",
    "df_labeled.head(5)\n",
    "#print(\"#Rows and #columns\", df_labeled.shape)\n",
    "#df_labeled.columns\n"
   ]
  },
  {
   "cell_type": "code",
   "execution_count": 3,
   "metadata": {},
   "outputs": [
    {
     "data": {
      "text/html": [
       "<div>\n",
       "<style scoped>\n",
       "    .dataframe tbody tr th:only-of-type {\n",
       "        vertical-align: middle;\n",
       "    }\n",
       "\n",
       "    .dataframe tbody tr th {\n",
       "        vertical-align: top;\n",
       "    }\n",
       "\n",
       "    .dataframe thead th {\n",
       "        text-align: right;\n",
       "    }\n",
       "</style>\n",
       "<table border=\"1\" class=\"dataframe\">\n",
       "  <thead>\n",
       "    <tr style=\"text-align: right;\">\n",
       "      <th></th>\n",
       "      <th>ano</th>\n",
       "      <th>sequencial_candidato</th>\n",
       "      <th>partido</th>\n",
       "      <th>quantidade_doacoes</th>\n",
       "      <th>quantidade_doadores</th>\n",
       "      <th>total_receita</th>\n",
       "      <th>recursos_de_outros_candidatos.comites</th>\n",
       "      <th>recursos_de_pessoas_fisicas</th>\n",
       "      <th>recursos_de_pessoas_juridicas</th>\n",
       "      <th>recursos_proprios</th>\n",
       "      <th>recursos_de_partido_politico</th>\n",
       "      <th>quantidade_despesas</th>\n",
       "      <th>quantidade_fornecedores</th>\n",
       "      <th>total_despesa</th>\n",
       "      <th>sexo</th>\n",
       "      <th>grau</th>\n",
       "    </tr>\n",
       "  </thead>\n",
       "  <tbody>\n",
       "    <tr>\n",
       "      <th>0</th>\n",
       "      <td>2014</td>\n",
       "      <td>10000000135</td>\n",
       "      <td>PSOL</td>\n",
       "      <td>3</td>\n",
       "      <td>3</td>\n",
       "      <td>1580.00</td>\n",
       "      <td>0.00</td>\n",
       "      <td>1500.00</td>\n",
       "      <td>0.00</td>\n",
       "      <td>0.00</td>\n",
       "      <td>80.0</td>\n",
       "      <td>3</td>\n",
       "      <td>3</td>\n",
       "      <td>1580.00</td>\n",
       "      <td>MASCULINO</td>\n",
       "      <td>ENSINO MÉDIO COMPLETO</td>\n",
       "    </tr>\n",
       "    <tr>\n",
       "      <th>1</th>\n",
       "      <td>2014</td>\n",
       "      <td>10000000142</td>\n",
       "      <td>PSOL</td>\n",
       "      <td>5</td>\n",
       "      <td>5</td>\n",
       "      <td>3180.00</td>\n",
       "      <td>0.00</td>\n",
       "      <td>3100.00</td>\n",
       "      <td>0.00</td>\n",
       "      <td>0.00</td>\n",
       "      <td>80.0</td>\n",
       "      <td>6</td>\n",
       "      <td>5</td>\n",
       "      <td>3130.02</td>\n",
       "      <td>MASCULINO</td>\n",
       "      <td>SUPERIOR COMPLETO</td>\n",
       "    </tr>\n",
       "    <tr>\n",
       "      <th>2</th>\n",
       "      <td>2014</td>\n",
       "      <td>10000000158</td>\n",
       "      <td>PSB</td>\n",
       "      <td>40</td>\n",
       "      <td>38</td>\n",
       "      <td>336793.13</td>\n",
       "      <td>1923.07</td>\n",
       "      <td>65700.00</td>\n",
       "      <td>154170.06</td>\n",
       "      <td>115000.00</td>\n",
       "      <td>0.0</td>\n",
       "      <td>145</td>\n",
       "      <td>139</td>\n",
       "      <td>326869.78</td>\n",
       "      <td>MASCULINO</td>\n",
       "      <td>ENSINO FUNDAMENTAL INCOMPLETO</td>\n",
       "    </tr>\n",
       "    <tr>\n",
       "      <th>3</th>\n",
       "      <td>2014</td>\n",
       "      <td>10000000161</td>\n",
       "      <td>PT</td>\n",
       "      <td>29</td>\n",
       "      <td>29</td>\n",
       "      <td>156719.32</td>\n",
       "      <td>39122.32</td>\n",
       "      <td>68783.84</td>\n",
       "      <td>17000.00</td>\n",
       "      <td>6813.16</td>\n",
       "      <td>25000.0</td>\n",
       "      <td>136</td>\n",
       "      <td>121</td>\n",
       "      <td>241016.07</td>\n",
       "      <td>MASCULINO</td>\n",
       "      <td>SUPERIOR COMPLETO</td>\n",
       "    </tr>\n",
       "    <tr>\n",
       "      <th>4</th>\n",
       "      <td>2014</td>\n",
       "      <td>10000000163</td>\n",
       "      <td>PT</td>\n",
       "      <td>160</td>\n",
       "      <td>146</td>\n",
       "      <td>737073.00</td>\n",
       "      <td>10000.00</td>\n",
       "      <td>347073.00</td>\n",
       "      <td>277000.00</td>\n",
       "      <td>78000.00</td>\n",
       "      <td>25000.0</td>\n",
       "      <td>518</td>\n",
       "      <td>354</td>\n",
       "      <td>567401.15</td>\n",
       "      <td>MASCULINO</td>\n",
       "      <td>SUPERIOR COMPLETO</td>\n",
       "    </tr>\n",
       "  </tbody>\n",
       "</table>\n",
       "</div>"
      ],
      "text/plain": [
       "    ano  sequencial_candidato partido  quantidade_doacoes  \\\n",
       "0  2014           10000000135    PSOL                   3   \n",
       "1  2014           10000000142    PSOL                   5   \n",
       "2  2014           10000000158     PSB                  40   \n",
       "3  2014           10000000161      PT                  29   \n",
       "4  2014           10000000163      PT                 160   \n",
       "\n",
       "   quantidade_doadores  total_receita  recursos_de_outros_candidatos.comites  \\\n",
       "0                    3        1580.00                                   0.00   \n",
       "1                    5        3180.00                                   0.00   \n",
       "2                   38      336793.13                                1923.07   \n",
       "3                   29      156719.32                               39122.32   \n",
       "4                  146      737073.00                               10000.00   \n",
       "\n",
       "   recursos_de_pessoas_fisicas  recursos_de_pessoas_juridicas  \\\n",
       "0                      1500.00                           0.00   \n",
       "1                      3100.00                           0.00   \n",
       "2                     65700.00                      154170.06   \n",
       "3                     68783.84                       17000.00   \n",
       "4                    347073.00                      277000.00   \n",
       "\n",
       "   recursos_proprios  recursos_de_partido_politico  quantidade_despesas  \\\n",
       "0               0.00                          80.0                    3   \n",
       "1               0.00                          80.0                    6   \n",
       "2          115000.00                           0.0                  145   \n",
       "3            6813.16                       25000.0                  136   \n",
       "4           78000.00                       25000.0                  518   \n",
       "\n",
       "   quantidade_fornecedores  total_despesa       sexo  \\\n",
       "0                        3        1580.00  MASCULINO   \n",
       "1                        5        3130.02  MASCULINO   \n",
       "2                      139      326869.78  MASCULINO   \n",
       "3                      121      241016.07  MASCULINO   \n",
       "4                      354      567401.15  MASCULINO   \n",
       "\n",
       "                            grau  \n",
       "0          ENSINO MÉDIO COMPLETO  \n",
       "1              SUPERIOR COMPLETO  \n",
       "2  ENSINO FUNDAMENTAL INCOMPLETO  \n",
       "3              SUPERIOR COMPLETO  \n",
       "4              SUPERIOR COMPLETO  "
      ]
     },
     "execution_count": 3,
     "metadata": {},
     "output_type": "execute_result"
    }
   ],
   "source": [
    "unlabeled = pd.read_csv(\"data/unlabeled.csv\").drop(\"nome\", 1).drop(\"uf\", 1).drop(\"media_receita\", 1).drop(\"media_despesa\", 1).drop(\"cargo\", 1).drop(\"estado_civil\", 1).drop(\"ocupacao\", 1)\n",
    "\n",
    "df_unlabeled = pd.DataFrame(unlabeled) # load the dataset as a pandas data frame\n",
    "\n",
    "df_unlabeled.head(5)\n",
    "#print(\"#Rows and #columns\", df_unlabeled.shape)\n",
    "#df_unlabeled.columns"
   ]
  },
  {
   "cell_type": "markdown",
   "metadata": {},
   "source": [
    "### Balanceamento das classes"
   ]
  },
  {
   "cell_type": "code",
   "execution_count": 5,
   "metadata": {},
   "outputs": [
    {
     "data": {
      "image/png": "[encoded data removed]",
      "text/plain": [
       "<Figure size 720x504 with 1 Axes>"
      ]
     },
     "metadata": {},
     "output_type": "display_data"
    }
   ],
   "source": [
    "def plot_groups(df):\n",
    "    ax = df['situacao'].value_counts().plot(kind='bar',\n",
    "                                              figsize=(10,7),\n",
    "                                              color=[\"indigo\", \"purple\"], )\n",
    "\n",
    "    ax.set_alpha(0.8)\n",
    "    ax.set_title(\"Proporção das classes\", fontsize=18)\n",
    "    ax.set_xlabel(\"Número de ocorrências no dataset\", fontsize=10);\n",
    "    ax.set_xticklabels([\"eleito\", \"nao_eleito\"])\n",
    "\n",
    "    # create a list to collect the plt.patches data\n",
    "    totals = []\n",
    "\n",
    "    # find the values and append to list\n",
    "    for i in ax.patches:\n",
    "        totals.append(i.get_height())\n",
    "\n",
    "    # set individual bar lables using above list\n",
    "    total = sum(totals)\n",
    "\n",
    "    # set individual bar lables using above list\n",
    "    for i in ax.patches:\n",
    "        # get_x pulls left or right; get_height pushes up or down\n",
    "        ax.text(i.get_x()+.1, i.get_height()-500, \\\n",
    "                str(round((i.get_height()/total)*100, 2))+'%', fontsize=20,\n",
    "                    color='white')\n",
    "        ax.text(i.get_x()+.07, i.get_height()-999, \\\n",
    "                \"Total: \" + str(i.get_height()), fontsize=18,\n",
    "                    color='white')\n",
    "\n",
    "\n",
    "plot_groups(df_labeled)"
   ]
  },
  {
   "cell_type": "markdown",
   "metadata": {},
   "source": [
    "Como observado no gráfico acima, as classes estão desbalanceadas. Esse desbalanceamento pode tendenciar o classificador a classificar os dados como pertencentes à classe majoritária. Segundo Emerson L. M e Marcelo L. (MACHADO, Emerson Lopes. Um estudo de limpeza em base de dados desbalanceada e com sobreposiçao de classes. 2007.), classificadores gerados a partir de bases de treinamento desbalanceadas apresentam altas taxas de falsos negativos para as classes minoritárias. \n",
    "\n",
    "Existem basicamente duas formas de tratar o desbalanceamento de classes: \n",
    "* Atribuir custos diferenciados às classes durante a indução do modelo de classificação;\n",
    "*  Reamostragem de dados (subamostragem ou sobreamostragem): Na **subamostragem**, dados da classe majoritária são removidos (desvantagem: se realizada de forma aleatória pode desprezar dados úteis), enquanto na **sobreamostragem**, dados da classe minoritária são replicados ou são gerados dados sintéticos (desvantagem:  a replicação dos exemplos tende a aumentar o custo computacional do processo)."
   ]
  },
  {
   "cell_type": "markdown",
   "metadata": {},
   "source": [
    "### Reamostragem dos dados"
   ]
  },
  {
   "cell_type": "markdown",
   "metadata": {},
   "source": [
    "Vamos resolver o problema de desbalanceamento com a técnica da subamostragem. Nesse caso, para manter a simplicidade, vamos remover dados da classe dos \"não eleitos\" de forma aleatória."
   ]
  },
  {
   "cell_type": "code",
   "execution_count": 6,
   "metadata": {},
   "outputs": [
    {
     "data": {
      "text/plain": [
       "(2052, 17)"
      ]
     },
     "execution_count": 6,
     "metadata": {},
     "output_type": "execute_result"
    },
    {
     "data": {
      "image/png": "[encoded data removed]",
      "text/plain": [
       "<Figure size 720x504 with 1 Axes>"
      ]
     },
     "metadata": {},
     "output_type": "display_data"
    }
   ],
   "source": [
    "sample_size = 1026\n",
    "\n",
    "elected = df_labeled[df_labeled[\"situacao\"] == \"eleito\"]\n",
    "\n",
    "not_elected = df_labeled[df_labeled[\"situacao\"] == \"nao_eleito\"].sample(sample_size)\n",
    "\n",
    "samples_array = []\n",
    "\n",
    "samples_array.append(elected)\n",
    "samples_array.append(not_elected)\n",
    "\n",
    "df_balanced = pd.concat(samples_array)\n",
    "\n",
    "plot_groups(df_balanced)\n",
    "df_balanced.shape\n"
   ]
  },
  {
   "cell_type": "markdown",
   "metadata": {},
   "source": [
    "### Separando os dados em treino e Validação"
   ]
  },
  {
   "cell_type": "code",
   "execution_count": 7,
   "metadata": {},
   "outputs": [
    {
     "name": "stdout",
     "output_type": "stream",
     "text": [
      "(1436, 52)\n",
      "(616, 52)\n",
      "(1436,)\n",
      "(616,)\n"
     ]
    }
   ],
   "source": [
    "train = df_balanced.drop(\"situacao\", 1)\n",
    "\n",
    "df_balanced['situacao'] = df_balanced['situacao'].map({'eleito': 1, 'nao_eleito': 0})\n",
    "\n",
    "\n",
    "# tranform categorical variables\n",
    "train = pd.get_dummies(train)\n",
    "\n",
    "# Split dataset into training set and test set\n",
    "X_train, X_test, Y_train, Y_test = train_test_split(train, df_balanced[\"situacao\"], test_size=0.3) # 70% training and 30% test\n",
    "\n",
    "\n",
    "print(X_train.shape)\n",
    "print(X_test.shape)\n",
    "print(Y_train.shape)\n",
    "print(Y_test.shape)"
   ]
  },
  {
   "cell_type": "markdown",
   "metadata": {},
   "source": [
    "### Cross validation + F1 score"
   ]
  },
  {
   "cell_type": "code",
   "execution_count": 8,
   "metadata": {},
   "outputs": [],
   "source": [
    "def f1_cv_mean(model):\n",
    "    f1 = cross_val_score(model, X_train, Y_train, scoring='f1', cv=10)\n",
    "    return(f1.mean())"
   ]
  },
  {
   "cell_type": "markdown",
   "metadata": {},
   "source": [
    "### Regressão Logística"
   ]
  },
  {
   "cell_type": "code",
   "execution_count": 9,
   "metadata": {},
   "outputs": [
    {
     "name": "stdout",
     "output_type": "stream",
     "text": [
      "0.6295877017475895\n"
     ]
    },
    {
     "name": "stderr",
     "output_type": "stream",
     "text": [
      "C:\\ProgramData\\Anaconda3\\lib\\site-packages\\sklearn\\metrics\\classification.py:1135: UndefinedMetricWarning: F-score is ill-defined and being set to 0.0 due to no predicted samples.\n",
      "  'precision', 'predicted', average, warn_for)\n"
     ]
    },
    {
     "data": {
      "text/plain": [
       "0.637987012987013"
      ]
     },
     "execution_count": 9,
     "metadata": {},
     "output_type": "execute_result"
    }
   ],
   "source": [
    "log_reg_model = LogisticRegression(random_state=0)\n",
    "log_reg_model.fit(X_train, Y_train)\n",
    "\n",
    "print(f1_cv_mean(log_reg_model))\n",
    "\n",
    "log_reg_model.score(X_test, Y_test)\n"
   ]
  },
  {
   "cell_type": "markdown",
   "metadata": {},
   "source": [
    "### KNN\n"
   ]
  },
  {
   "cell_type": "code",
   "execution_count": 10,
   "metadata": {},
   "outputs": [
    {
     "name": "stdout",
     "output_type": "stream",
     "text": [
      "The optimal number of neighbors is 3\n"
     ]
    },
    {
     "data": {
      "image/png": "[encoded data removed]",
      "text/plain": [
       "<Figure size 432x288 with 1 Axes>"
      ]
     },
     "metadata": {},
     "output_type": "display_data"
    }
   ],
   "source": [
    "\n",
    "neighbors = [1,2,3,4,5,6,7,8,9,10,11,12,14,16,20,22,24,26,28,29,30,35,40,42,45,47,50,55,60]\n",
    "\n",
    "# empty list that will hold cv scores\n",
    "f1_scores = []\n",
    "\n",
    "# perform 10-fold cross validation\n",
    "for k in neighbors:\n",
    "    knn = KNeighborsClassifier(n_neighbors=k)\n",
    "    f1 = f1_cv_mean(knn)\n",
    "    f1_scores.append(f1)\n",
    "\n",
    "# determining best k\n",
    "optimal_k = neighbors[f1_scores.index(max(f1_scores))]\n",
    "print(\"The optimal number of neighbors is %d\" % optimal_k)\n",
    "\n",
    "\n",
    "plt.plot(neighbors, f1_scores)\n",
    "plt.xlabel('Number of Neighbors K')\n",
    "plt.ylabel('F1 Score')\n",
    "plt.show()"
   ]
  },
  {
   "cell_type": "code",
   "execution_count": 11,
   "metadata": {},
   "outputs": [
    {
     "data": {
      "text/plain": [
       "0.8798701298701299"
      ]
     },
     "execution_count": 11,
     "metadata": {},
     "output_type": "execute_result"
    }
   ],
   "source": [
    "knn_model = KNeighborsClassifier(n_neighbors=optimal_k)\n",
    "\n",
    "knn_model.fit(X_train, Y_train)\n",
    "f1_cv_mean(knn_model)\n",
    "knn_model.score(X_test, Y_test)\n",
    "\n"
   ]
  },
  {
   "cell_type": "markdown",
   "metadata": {},
   "source": [
    "### Árvore de Decisão"
   ]
  },
  {
   "cell_type": "code",
   "execution_count": 12,
   "metadata": {},
   "outputs": [
    {
     "name": "stdout",
     "output_type": "stream",
     "text": [
      "0.8667143290661029\n"
     ]
    }
   ],
   "source": [
    "from sklearn.tree import DecisionTreeClassifier\n",
    "\n",
    "decision_tree_model = DecisionTreeClassifier(random_state=0)\n",
    "\n",
    "decision_tree_model.fit(X_train, Y_train)\n",
    "\n",
    "f1 = f1_cv_mean(decision_tree_model)\n",
    "\n",
    "print(f1)"
   ]
  },
  {
   "cell_type": "markdown",
   "metadata": {},
   "source": [
    "### Adaboost"
   ]
  },
  {
   "cell_type": "code",
   "execution_count": 13,
   "metadata": {},
   "outputs": [
    {
     "name": "stdout",
     "output_type": "stream",
     "text": [
      "0.9142808792193028\n"
     ]
    }
   ],
   "source": [
    "# Create and fit an AdaBoosted decision tree\n",
    "bdt = AdaBoostClassifier(DecisionTreeClassifier(max_depth=1),\n",
    "                         algorithm=\"SAMME\",\n",
    "                         n_estimators=200)\n",
    "\n",
    "bdt.fit(X_train, Y_train)\n",
    "\n",
    "f1 = f1_cv_mean(bdt)\n",
    "\n",
    "print(f1)"
   ]
  },
  {
   "cell_type": "markdown",
   "metadata": {},
   "source": [
    "**Treine: um modelo de regressão logística, KNN, uma árvore de decisão e um modelo de adaboost. Tune esses modelos usando validação cruzada e controle overfitting se necessário, considerando as particularidades de cada modelo.**"
   ]
  },
  {
   "cell_type": "markdown",
   "metadata": {},
   "source": [
    "Links e Referências:\n",
    "\n",
    "* [BAR CHART ANNOTATIONS WITH PANDAS AND MATPLOTLIB](http://robertmitchellv.com/blog-bar-chart-annotations-pandas-mpl.html)\n",
    "\n",
    "* [Um Estudo de Limpeza em Base de Dados Desbalanceada\n",
    "com Sobreposição de Classes](https://www.cos.ufrj.br/~ines/enia07_html/pdf/28076.pdf)\n",
    "\n",
    "* [Pré-processamento de dados](https://edisciplinas.usp.br/pluginfile.php/4052836/mod_resource/content/4/mineracaodadosbiologicos-parte3.pdf)\n",
    "* [KNN Classification using Scikit-learn](https://www.datacamp.com/community/tutorials/k-nearest-neighbor-classification-scikit-learn)\n",
    "* [A Complete Guide to K-Nearest-Neighbors with Applications in Python and R](https://kevinzakka.github.io/2016/07/13/k-nearest-neighbor/)"
   ]
  },
  {
   "cell_type": "code",
   "execution_count": null,
   "metadata": {},
   "outputs": [],
   "source": []
  },
  {
   "cell_type": "code",
   "execution_count": null,
   "metadata": {},
   "outputs": [],
   "source": []
  },
  {
   "cell_type": "code",
   "execution_count": null,
   "metadata": {},
   "outputs": [],
   "source": []
  },
  {
   "cell_type": "code",
   "execution_count": null,
   "metadata": {},
   "outputs": [],
   "source": []
  }
 ],
 "metadata": {
  "kernelspec": {
   "display_name": "Python 3",
   "language": "python",
   "name": "python3"
  },
  "language_info": {
   "codemirror_mode": {
    "name": "ipython",
    "version": 3
   },
   "file_extension": ".py",
   "mimetype": "text/x-python",
   "name": "python",
   "nbconvert_exporter": "python",
   "pygments_lexer": "ipython3",
   "version": "3.6.5"
  }
 },
 "nbformat": 4,
 "nbformat_minor": 2
}
