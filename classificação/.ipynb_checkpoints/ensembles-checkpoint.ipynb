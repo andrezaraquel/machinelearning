{
 "cells": [
  {
   "cell_type": "markdown",
   "metadata": {},
   "source": [
    "# Previsão de Eleição de Deputados"
   ]
  },
  {
   "cell_type": "markdown",
   "metadata": {},
   "source": [
    "Neste notebook vamos usar classificadores para prever se candidatos ao cargo de Deputado Federal serão eleitos.\n",
    "Para isso, usaremos os seguintes dados:"
   ]
  },
  {
   "cell_type": "markdown",
   "metadata": {},
   "source": [
    "### Dados"
   ]
  },
  {
   "cell_type": "markdown",
   "metadata": {},
   "source": [
    "Os dados utilizados correspondem aos das eleições de Deputado Federal nos anos de 2006, 2010 e 2014. Estão dividos nas seguintes colunas:\n",
    "\n",
    "* **ano:** Ano da eleição;\n",
    "* **sequencial_candidato:** O identificador do candidato. Corresponde à coluna Id do arquivo de submissão;\n",
    "* **nome:** Nome do candidato;\n",
    "* **uf:**  Sigla do estado do candidato;\n",
    "* **partido:** Partido do candidato;\n",
    "* **quantidade_doacoes:** Número de doações que um candidato recebeu;\n",
    "* **quantidade_doadores:** Número de doadores que um candidato teve;\n",
    "* **total_receita:** Total de receita de um candidato;\n",
    "* **media_receita:** Média da receita de um candidato;\n",
    "* **recursos_de_outros_candidatos.comites:** Total de receita proveniente de outros candidatos e comitês;\n",
    "* **recursos_de_pessoas_fisicas:** Total de receita proveniente de pessoas físicas;\n",
    "* **recursos_de_pessoas_juridicas:** Total de receita proveniente de pessoas juridicas;\n",
    "* **recursos_proprios:** Total de receita proveniente dos próprios candidatos;\n",
    "* **recursos_de_partido_politico:** Total de receita proveniente do partido do candidato;\n",
    "* **quantidade_despesas:** Número de despesas que um candidato teve;\n",
    "* **quantidade_fornecedores:** Número de fornecedores que um candidato teve;\n",
    "* **total_despesa:** Total de depesa de um candidato;\n",
    "* **media_despesa:** Média da despesa de um candidato;\n",
    "* **cargo:** Cargo ao qual o candidato está concorrendo;\n",
    "* **sexo:** Sexo do candidato;\n",
    "* **grau:** Grau de escolaridade do candidato;\n",
    "* **estado_civil:** Estado civil do candidato;\n",
    "* **ocupacao:** Ocupação do candidato;\n",
    "* **situacao:** Situação final do candidato. Corresponde à coluna Predict do arquivo de submissão;"
   ]
  },
  {
   "cell_type": "markdown",
   "metadata": {},
   "source": [
    "Esses dados estão divididos em:\n",
    "\n",
    "* **train.csv:** Este é o conjunto de treino que será utilizado para treinar o modelo. Para o treino serão utilizados os dados das eleições dos anos de 2006 e 2010;\n",
    "* **unlabeled.csv:** Este é o conjunto, composto por uma parte dos dados de 2014, que será usado na previsão. "
   ]
  },
  {
   "cell_type": "markdown",
   "metadata": {},
   "source": [
    "### Bibliotecas"
   ]
  },
  {
   "cell_type": "code",
   "execution_count": 1,
   "metadata": {},
   "outputs": [
    {
     "name": "stderr",
     "output_type": "stream",
     "text": [
      "/home/andreza/anaconda3/lib/python3.7/site-packages/sklearn/ensemble/weight_boosting.py:29: DeprecationWarning: numpy.core.umath_tests is an internal NumPy module and should not be imported. It will be removed in a future NumPy release.\n",
      "  from numpy.core.umath_tests import inner1d\n"
     ]
    }
   ],
   "source": [
    "import pandas as pd\n",
    "import numpy as np\n",
    "import matplotlib.pyplot as plt\n",
    "\n",
    "from sklearn.model_selection import train_test_split\n",
    "from sklearn.neighbors import KNeighborsClassifier\n",
    "from sklearn.model_selection import cross_val_score\n",
    "from sklearn.linear_model import LogisticRegression\n",
    "from sklearn.ensemble import AdaBoostClassifier\n",
    "from sklearn.tree import DecisionTreeClassifier\n",
    "\n"
   ]
  },
  {
   "cell_type": "markdown",
   "metadata": {},
   "source": [
    "### Lendo os dados"
   ]
  },
  {
   "cell_type": "code",
   "execution_count": 2,
   "metadata": {},
   "outputs": [
    {
     "data": {
      "text/html": [
       "<div>\n",
       "<style scoped>\n",
       "    .dataframe tbody tr th:only-of-type {\n",
       "        vertical-align: middle;\n",
       "    }\n",
       "\n",
       "    .dataframe tbody tr th {\n",
       "        vertical-align: top;\n",
       "    }\n",
       "\n",
       "    .dataframe thead th {\n",
       "        text-align: right;\n",
       "    }\n",
       "</style>\n",
       "<table border=\"1\" class=\"dataframe\">\n",
       "  <thead>\n",
       "    <tr style=\"text-align: right;\">\n",
       "      <th></th>\n",
       "      <th>ano</th>\n",
       "      <th>sequencial_candidato</th>\n",
       "      <th>nome</th>\n",
       "      <th>uf</th>\n",
       "      <th>partido</th>\n",
       "      <th>quantidade_doacoes</th>\n",
       "      <th>quantidade_doadores</th>\n",
       "      <th>total_receita</th>\n",
       "      <th>media_receita</th>\n",
       "      <th>recursos_de_outros_candidatos.comites</th>\n",
       "      <th>...</th>\n",
       "      <th>quantidade_despesas</th>\n",
       "      <th>quantidade_fornecedores</th>\n",
       "      <th>total_despesa</th>\n",
       "      <th>media_despesa</th>\n",
       "      <th>cargo</th>\n",
       "      <th>sexo</th>\n",
       "      <th>grau</th>\n",
       "      <th>estado_civil</th>\n",
       "      <th>ocupacao</th>\n",
       "      <th>situacao</th>\n",
       "    </tr>\n",
       "  </thead>\n",
       "  <tbody>\n",
       "    <tr>\n",
       "      <th>0</th>\n",
       "      <td>2006</td>\n",
       "      <td>10001</td>\n",
       "      <td>JOSÉ LUIZ NOGUEIRA DE SOUSA</td>\n",
       "      <td>AP</td>\n",
       "      <td>PT</td>\n",
       "      <td>6</td>\n",
       "      <td>6</td>\n",
       "      <td>16600.00</td>\n",
       "      <td>2766.67</td>\n",
       "      <td>0.0</td>\n",
       "      <td>...</td>\n",
       "      <td>14</td>\n",
       "      <td>14</td>\n",
       "      <td>16583.60</td>\n",
       "      <td>1184.54</td>\n",
       "      <td>DEPUTADO FEDERAL</td>\n",
       "      <td>MASCULINO</td>\n",
       "      <td>ENSINO MÉDIO COMPLETO</td>\n",
       "      <td>CASADO(A)</td>\n",
       "      <td>VEREADOR</td>\n",
       "      <td>nao_eleito</td>\n",
       "    </tr>\n",
       "    <tr>\n",
       "      <th>1</th>\n",
       "      <td>2006</td>\n",
       "      <td>10002</td>\n",
       "      <td>LOIVA DE OLIVEIRA</td>\n",
       "      <td>RO</td>\n",
       "      <td>PT</td>\n",
       "      <td>13</td>\n",
       "      <td>13</td>\n",
       "      <td>22826.00</td>\n",
       "      <td>1755.85</td>\n",
       "      <td>6625.0</td>\n",
       "      <td>...</td>\n",
       "      <td>24</td>\n",
       "      <td>23</td>\n",
       "      <td>20325.99</td>\n",
       "      <td>846.92</td>\n",
       "      <td>DEPUTADO FEDERAL</td>\n",
       "      <td>FEMININO</td>\n",
       "      <td>SUPERIOR COMPLETO</td>\n",
       "      <td>SOLTEIRO(A)</td>\n",
       "      <td>SERVIDOR PÚBLICO ESTADUAL</td>\n",
       "      <td>nao_eleito</td>\n",
       "    </tr>\n",
       "    <tr>\n",
       "      <th>2</th>\n",
       "      <td>2006</td>\n",
       "      <td>10002</td>\n",
       "      <td>MARIA DALVA DE SOUZA FIGUEIREDO</td>\n",
       "      <td>AP</td>\n",
       "      <td>PT</td>\n",
       "      <td>17</td>\n",
       "      <td>16</td>\n",
       "      <td>158120.80</td>\n",
       "      <td>9301.22</td>\n",
       "      <td>2250.0</td>\n",
       "      <td>...</td>\n",
       "      <td>123</td>\n",
       "      <td>108</td>\n",
       "      <td>146011.70</td>\n",
       "      <td>1187.09</td>\n",
       "      <td>DEPUTADO FEDERAL</td>\n",
       "      <td>FEMININO</td>\n",
       "      <td>SUPERIOR COMPLETO</td>\n",
       "      <td>VIÚVO(A)</td>\n",
       "      <td>PEDAGOGO</td>\n",
       "      <td>eleito</td>\n",
       "    </tr>\n",
       "    <tr>\n",
       "      <th>3</th>\n",
       "      <td>2006</td>\n",
       "      <td>10002</td>\n",
       "      <td>ROMALDO MILANI</td>\n",
       "      <td>MS</td>\n",
       "      <td>PRONA</td>\n",
       "      <td>6</td>\n",
       "      <td>6</td>\n",
       "      <td>3001.12</td>\n",
       "      <td>500.19</td>\n",
       "      <td>0.0</td>\n",
       "      <td>...</td>\n",
       "      <td>8</td>\n",
       "      <td>8</td>\n",
       "      <td>3001.12</td>\n",
       "      <td>375.14</td>\n",
       "      <td>DEPUTADO FEDERAL</td>\n",
       "      <td>MASCULINO</td>\n",
       "      <td>ENSINO MÉDIO INCOMPLETO</td>\n",
       "      <td>CASADO(A)</td>\n",
       "      <td>MILITAR REFORMADO</td>\n",
       "      <td>nao_eleito</td>\n",
       "    </tr>\n",
       "    <tr>\n",
       "      <th>4</th>\n",
       "      <td>2006</td>\n",
       "      <td>10003</td>\n",
       "      <td>ANSELMO DE JESUS ABREU</td>\n",
       "      <td>RO</td>\n",
       "      <td>PT</td>\n",
       "      <td>48</td>\n",
       "      <td>48</td>\n",
       "      <td>119820.00</td>\n",
       "      <td>2496.25</td>\n",
       "      <td>0.0</td>\n",
       "      <td>...</td>\n",
       "      <td>133</td>\n",
       "      <td>120</td>\n",
       "      <td>116416.64</td>\n",
       "      <td>875.31</td>\n",
       "      <td>DEPUTADO FEDERAL</td>\n",
       "      <td>MASCULINO</td>\n",
       "      <td>ENSINO FUNDAMENTAL COMPLETO</td>\n",
       "      <td>CASADO(A)</td>\n",
       "      <td>DEPUTADO</td>\n",
       "      <td>eleito</td>\n",
       "    </tr>\n",
       "  </tbody>\n",
       "</table>\n",
       "<p>5 rows × 24 columns</p>\n",
       "</div>"
      ],
      "text/plain": [
       "    ano  sequencial_candidato                             nome  uf partido  \\\n",
       "0  2006                 10001      JOSÉ LUIZ NOGUEIRA DE SOUSA  AP      PT   \n",
       "1  2006                 10002                LOIVA DE OLIVEIRA  RO      PT   \n",
       "2  2006                 10002  MARIA DALVA DE SOUZA FIGUEIREDO  AP      PT   \n",
       "3  2006                 10002                   ROMALDO MILANI  MS   PRONA   \n",
       "4  2006                 10003           ANSELMO DE JESUS ABREU  RO      PT   \n",
       "\n",
       "   quantidade_doacoes  quantidade_doadores  total_receita  media_receita  \\\n",
       "0                   6                    6       16600.00        2766.67   \n",
       "1                  13                   13       22826.00        1755.85   \n",
       "2                  17                   16      158120.80        9301.22   \n",
       "3                   6                    6        3001.12         500.19   \n",
       "4                  48                   48      119820.00        2496.25   \n",
       "\n",
       "   recursos_de_outros_candidatos.comites     ...      quantidade_despesas  \\\n",
       "0                                    0.0     ...                       14   \n",
       "1                                 6625.0     ...                       24   \n",
       "2                                 2250.0     ...                      123   \n",
       "3                                    0.0     ...                        8   \n",
       "4                                    0.0     ...                      133   \n",
       "\n",
       "   quantidade_fornecedores  total_despesa  media_despesa             cargo  \\\n",
       "0                       14       16583.60        1184.54  DEPUTADO FEDERAL   \n",
       "1                       23       20325.99         846.92  DEPUTADO FEDERAL   \n",
       "2                      108      146011.70        1187.09  DEPUTADO FEDERAL   \n",
       "3                        8        3001.12         375.14  DEPUTADO FEDERAL   \n",
       "4                      120      116416.64         875.31  DEPUTADO FEDERAL   \n",
       "\n",
       "        sexo                         grau  estado_civil  \\\n",
       "0  MASCULINO        ENSINO MÉDIO COMPLETO     CASADO(A)   \n",
       "1   FEMININO            SUPERIOR COMPLETO   SOLTEIRO(A)   \n",
       "2   FEMININO            SUPERIOR COMPLETO      VIÚVO(A)   \n",
       "3  MASCULINO      ENSINO MÉDIO INCOMPLETO     CASADO(A)   \n",
       "4  MASCULINO  ENSINO FUNDAMENTAL COMPLETO     CASADO(A)   \n",
       "\n",
       "                    ocupacao    situacao  \n",
       "0                   VEREADOR  nao_eleito  \n",
       "1  SERVIDOR PÚBLICO ESTADUAL  nao_eleito  \n",
       "2                   PEDAGOGO      eleito  \n",
       "3          MILITAR REFORMADO  nao_eleito  \n",
       "4                   DEPUTADO      eleito  \n",
       "\n",
       "[5 rows x 24 columns]"
      ]
     },
     "execution_count": 2,
     "metadata": {},
     "output_type": "execute_result"
    }
   ],
   "source": [
    "labeled = pd.read_csv(\"data/train.csv\")\n",
    "\n",
    "\n",
    "df_labeled = pd.DataFrame(labeled) # load the dataset as a pandas data frame\n",
    "df_labeled.head(5)\n",
    "#print(\"#Rows and #columns\", df_labeled.shape)\n",
    "#df_labeled.columns\n"
   ]
  },
  {
   "cell_type": "code",
   "execution_count": 3,
   "metadata": {},
   "outputs": [
    {
     "data": {
      "text/html": [
       "<div>\n",
       "<style scoped>\n",
       "    .dataframe tbody tr th:only-of-type {\n",
       "        vertical-align: middle;\n",
       "    }\n",
       "\n",
       "    .dataframe tbody tr th {\n",
       "        vertical-align: top;\n",
       "    }\n",
       "\n",
       "    .dataframe thead th {\n",
       "        text-align: right;\n",
       "    }\n",
       "</style>\n",
       "<table border=\"1\" class=\"dataframe\">\n",
       "  <thead>\n",
       "    <tr style=\"text-align: right;\">\n",
       "      <th></th>\n",
       "      <th>ano</th>\n",
       "      <th>sequencial_candidato</th>\n",
       "      <th>nome</th>\n",
       "      <th>uf</th>\n",
       "      <th>partido</th>\n",
       "      <th>quantidade_doacoes</th>\n",
       "      <th>quantidade_doadores</th>\n",
       "      <th>total_receita</th>\n",
       "      <th>media_receita</th>\n",
       "      <th>recursos_de_outros_candidatos.comites</th>\n",
       "      <th>...</th>\n",
       "      <th>recursos_de_partido_politico</th>\n",
       "      <th>quantidade_despesas</th>\n",
       "      <th>quantidade_fornecedores</th>\n",
       "      <th>total_despesa</th>\n",
       "      <th>media_despesa</th>\n",
       "      <th>cargo</th>\n",
       "      <th>sexo</th>\n",
       "      <th>grau</th>\n",
       "      <th>estado_civil</th>\n",
       "      <th>ocupacao</th>\n",
       "    </tr>\n",
       "  </thead>\n",
       "  <tbody>\n",
       "    <tr>\n",
       "      <th>0</th>\n",
       "      <td>2014</td>\n",
       "      <td>10000000135</td>\n",
       "      <td>EMERSON DA SILVA SANTOS</td>\n",
       "      <td>AC</td>\n",
       "      <td>PSOL</td>\n",
       "      <td>3</td>\n",
       "      <td>3</td>\n",
       "      <td>1580.00</td>\n",
       "      <td>526.67</td>\n",
       "      <td>0.00</td>\n",
       "      <td>...</td>\n",
       "      <td>80.0</td>\n",
       "      <td>3</td>\n",
       "      <td>3</td>\n",
       "      <td>1580.00</td>\n",
       "      <td>526.67</td>\n",
       "      <td>DEPUTADO FEDERAL</td>\n",
       "      <td>MASCULINO</td>\n",
       "      <td>ENSINO MÉDIO COMPLETO</td>\n",
       "      <td>SOLTEIRO(A)</td>\n",
       "      <td>CORRETOR DE IMÓVEIS, SEGUROS, TÍTULOS E VALORES</td>\n",
       "    </tr>\n",
       "    <tr>\n",
       "      <th>1</th>\n",
       "      <td>2014</td>\n",
       "      <td>10000000142</td>\n",
       "      <td>GERALDO SILVA DOS SANTOS</td>\n",
       "      <td>AC</td>\n",
       "      <td>PSOL</td>\n",
       "      <td>5</td>\n",
       "      <td>5</td>\n",
       "      <td>3180.00</td>\n",
       "      <td>636.00</td>\n",
       "      <td>0.00</td>\n",
       "      <td>...</td>\n",
       "      <td>80.0</td>\n",
       "      <td>6</td>\n",
       "      <td>5</td>\n",
       "      <td>3130.02</td>\n",
       "      <td>521.67</td>\n",
       "      <td>DEPUTADO FEDERAL</td>\n",
       "      <td>MASCULINO</td>\n",
       "      <td>SUPERIOR COMPLETO</td>\n",
       "      <td>SOLTEIRO(A)</td>\n",
       "      <td>VIGILANTE</td>\n",
       "    </tr>\n",
       "    <tr>\n",
       "      <th>2</th>\n",
       "      <td>2014</td>\n",
       "      <td>10000000158</td>\n",
       "      <td>CARLOS CESAR CORREIA DE MESSIAS</td>\n",
       "      <td>AC</td>\n",
       "      <td>PSB</td>\n",
       "      <td>40</td>\n",
       "      <td>38</td>\n",
       "      <td>336793.13</td>\n",
       "      <td>8419.83</td>\n",
       "      <td>1923.07</td>\n",
       "      <td>...</td>\n",
       "      <td>0.0</td>\n",
       "      <td>145</td>\n",
       "      <td>139</td>\n",
       "      <td>326869.78</td>\n",
       "      <td>2254.27</td>\n",
       "      <td>DEPUTADO FEDERAL</td>\n",
       "      <td>MASCULINO</td>\n",
       "      <td>ENSINO FUNDAMENTAL INCOMPLETO</td>\n",
       "      <td>CASADO(A)</td>\n",
       "      <td>OUTROS</td>\n",
       "    </tr>\n",
       "    <tr>\n",
       "      <th>3</th>\n",
       "      <td>2014</td>\n",
       "      <td>10000000161</td>\n",
       "      <td>IDESIO LUIS FRANKE</td>\n",
       "      <td>AC</td>\n",
       "      <td>PT</td>\n",
       "      <td>29</td>\n",
       "      <td>29</td>\n",
       "      <td>156719.32</td>\n",
       "      <td>5404.11</td>\n",
       "      <td>39122.32</td>\n",
       "      <td>...</td>\n",
       "      <td>25000.0</td>\n",
       "      <td>136</td>\n",
       "      <td>121</td>\n",
       "      <td>241016.07</td>\n",
       "      <td>1772.18</td>\n",
       "      <td>DEPUTADO FEDERAL</td>\n",
       "      <td>MASCULINO</td>\n",
       "      <td>SUPERIOR COMPLETO</td>\n",
       "      <td>CASADO(A)</td>\n",
       "      <td>AGRÔNOMO</td>\n",
       "    </tr>\n",
       "    <tr>\n",
       "      <th>4</th>\n",
       "      <td>2014</td>\n",
       "      <td>10000000163</td>\n",
       "      <td>LEONARDO CUNHA DE BRITO</td>\n",
       "      <td>AC</td>\n",
       "      <td>PT</td>\n",
       "      <td>160</td>\n",
       "      <td>146</td>\n",
       "      <td>737073.00</td>\n",
       "      <td>4606.71</td>\n",
       "      <td>10000.00</td>\n",
       "      <td>...</td>\n",
       "      <td>25000.0</td>\n",
       "      <td>518</td>\n",
       "      <td>354</td>\n",
       "      <td>567401.15</td>\n",
       "      <td>1095.37</td>\n",
       "      <td>DEPUTADO FEDERAL</td>\n",
       "      <td>MASCULINO</td>\n",
       "      <td>SUPERIOR COMPLETO</td>\n",
       "      <td>CASADO(A)</td>\n",
       "      <td>ADVOGADO</td>\n",
       "    </tr>\n",
       "  </tbody>\n",
       "</table>\n",
       "<p>5 rows × 23 columns</p>\n",
       "</div>"
      ],
      "text/plain": [
       "    ano  sequencial_candidato                             nome  uf partido  \\\n",
       "0  2014           10000000135          EMERSON DA SILVA SANTOS  AC    PSOL   \n",
       "1  2014           10000000142         GERALDO SILVA DOS SANTOS  AC    PSOL   \n",
       "2  2014           10000000158  CARLOS CESAR CORREIA DE MESSIAS  AC     PSB   \n",
       "3  2014           10000000161               IDESIO LUIS FRANKE  AC      PT   \n",
       "4  2014           10000000163          LEONARDO CUNHA DE BRITO  AC      PT   \n",
       "\n",
       "   quantidade_doacoes  quantidade_doadores  total_receita  media_receita  \\\n",
       "0                   3                    3        1580.00         526.67   \n",
       "1                   5                    5        3180.00         636.00   \n",
       "2                  40                   38      336793.13        8419.83   \n",
       "3                  29                   29      156719.32        5404.11   \n",
       "4                 160                  146      737073.00        4606.71   \n",
       "\n",
       "   recursos_de_outros_candidatos.comites  \\\n",
       "0                                   0.00   \n",
       "1                                   0.00   \n",
       "2                                1923.07   \n",
       "3                               39122.32   \n",
       "4                               10000.00   \n",
       "\n",
       "                        ...                         \\\n",
       "0                       ...                          \n",
       "1                       ...                          \n",
       "2                       ...                          \n",
       "3                       ...                          \n",
       "4                       ...                          \n",
       "\n",
       "   recursos_de_partido_politico  quantidade_despesas  quantidade_fornecedores  \\\n",
       "0                          80.0                    3                        3   \n",
       "1                          80.0                    6                        5   \n",
       "2                           0.0                  145                      139   \n",
       "3                       25000.0                  136                      121   \n",
       "4                       25000.0                  518                      354   \n",
       "\n",
       "   total_despesa  media_despesa             cargo       sexo  \\\n",
       "0        1580.00         526.67  DEPUTADO FEDERAL  MASCULINO   \n",
       "1        3130.02         521.67  DEPUTADO FEDERAL  MASCULINO   \n",
       "2      326869.78        2254.27  DEPUTADO FEDERAL  MASCULINO   \n",
       "3      241016.07        1772.18  DEPUTADO FEDERAL  MASCULINO   \n",
       "4      567401.15        1095.37  DEPUTADO FEDERAL  MASCULINO   \n",
       "\n",
       "                            grau estado_civil  \\\n",
       "0          ENSINO MÉDIO COMPLETO  SOLTEIRO(A)   \n",
       "1              SUPERIOR COMPLETO  SOLTEIRO(A)   \n",
       "2  ENSINO FUNDAMENTAL INCOMPLETO    CASADO(A)   \n",
       "3              SUPERIOR COMPLETO    CASADO(A)   \n",
       "4              SUPERIOR COMPLETO    CASADO(A)   \n",
       "\n",
       "                                          ocupacao  \n",
       "0  CORRETOR DE IMÓVEIS, SEGUROS, TÍTULOS E VALORES  \n",
       "1                                        VIGILANTE  \n",
       "2                                           OUTROS  \n",
       "3                                         AGRÔNOMO  \n",
       "4                                         ADVOGADO  \n",
       "\n",
       "[5 rows x 23 columns]"
      ]
     },
     "execution_count": 3,
     "metadata": {},
     "output_type": "execute_result"
    }
   ],
   "source": [
    "unlabeled = pd.read_csv(\"data/unlabeled.csv\")\n",
    "\n",
    "df_unlabeled = pd.DataFrame(unlabeled) # load the dataset as a pandas data frame\n",
    "\n",
    "df_unlabeled.head(5)\n",
    "#print(\"#Rows and #columns\", df_unlabeled.shape)\n",
    "#df_unlabeled.columns"
   ]
  },
  {
   "cell_type": "markdown",
   "metadata": {},
   "source": [
    "### Balanceamento das classes"
   ]
  },
  {
   "cell_type": "code",
   "execution_count": 4,
   "metadata": {},
   "outputs": [
    {
     "data": {
      "image/png": "[encoded data removed]",
      "text/plain": [
       "<Figure size 720x504 with 1 Axes>"
      ]
     },
     "metadata": {
      "needs_background": "light"
     },
     "output_type": "display_data"
    }
   ],
   "source": [
    "def plot_groups(df):\n",
    "    ax = df['situacao'].value_counts().plot(kind='bar',\n",
    "                                              figsize=(10,7),\n",
    "                                              color=[\"indigo\", \"purple\"], )\n",
    "\n",
    "    ax.set_alpha(0.8)\n",
    "    ax.set_title(\"Proporção das classes\", fontsize=18)\n",
    "    ax.set_xlabel(\"Número de ocorrências no dataset\", fontsize=10);\n",
    "    ax.set_xticklabels([\"eleito\", \"nao_eleito\"])\n",
    "\n",
    "    # create a list to collect the plt.patches data\n",
    "    totals = []\n",
    "\n",
    "    # find the values and append to list\n",
    "    for i in ax.patches:\n",
    "        totals.append(i.get_height())\n",
    "\n",
    "    # set individual bar lables using above list\n",
    "    total = sum(totals)\n",
    "\n",
    "    # set individual bar lables using above list\n",
    "    for i in ax.patches:\n",
    "        # get_x pulls left or right; get_height pushes up or down\n",
    "        ax.text(i.get_x()+.1, i.get_height()-500, \\\n",
    "                str(round((i.get_height()/total)*100, 2))+'%', fontsize=20,\n",
    "                    color='white')\n",
    "        ax.text(i.get_x()+.07, i.get_height()-999, \\\n",
    "                \"Total: \" + str(i.get_height()), fontsize=18,\n",
    "                    color='white')\n",
    "\n",
    "\n",
    "plot_groups(df_labeled)"
   ]
  },
  {
   "cell_type": "markdown",
   "metadata": {},
   "source": [
    "Como observado no gráfico acima, as classes estão desbalanceadas. Esse desbalanceamento pode tendenciar o classificador a classificar os dados como pertencentes à classe majoritária. Segundo Emerson L. M e Marcelo L. (MACHADO, Emerson Lopes. Um estudo de limpeza em base de dados desbalanceada e com sobreposiçao de classes. 2007.), classificadores gerados a partir de bases de treinamento desbalanceadas apresentam altas taxas de falsos negativos para as classes minoritárias. \n",
    "\n",
    "Existem basicamente duas formas de tratar o desbalanceamento de classes: \n",
    "* Atribuir custos diferenciados às classes durante a indução do modelo de classificação;\n",
    "*  Reamostragem de dados (subamostragem ou sobreamostragem): Na **subamostragem**, dados da classe majoritária são removidos (desvantagem: se realizada de forma aleatória pode desprezar dados úteis), enquanto na **sobreamostragem**, dados da classe minoritária são replicados ou são gerados dados sintéticos (desvantagem:  a replicação dos exemplos tende a aumentar o custo computacional do processo)."
   ]
  },
  {
   "cell_type": "markdown",
   "metadata": {},
   "source": [
    "### Reamostragem dos dados"
   ]
  },
  {
   "cell_type": "markdown",
   "metadata": {},
   "source": [
    "Vamos resolver o problema de desbalanceamento com a técnica da subamostragem. Nesse caso, para manter a simplicidade, vamos remover dados da classe dos \"não eleitos\" de forma aleatória."
   ]
  },
  {
   "cell_type": "code",
   "execution_count": 5,
   "metadata": {},
   "outputs": [
    {
     "data": {
      "text/plain": [
       "(2052, 24)"
      ]
     },
     "execution_count": 5,
     "metadata": {},
     "output_type": "execute_result"
    },
    {
     "data": {
      "image/png": "[encoded data removed]",
      "text/plain": [
       "<Figure size 720x504 with 1 Axes>"
      ]
     },
     "metadata": {
      "needs_background": "light"
     },
     "output_type": "display_data"
    }
   ],
   "source": [
    "sample_size = 1026\n",
    "\n",
    "elected = df_labeled[df_labeled[\"situacao\"] == \"eleito\"]\n",
    "\n",
    "not_elected = df_labeled[df_labeled[\"situacao\"] == \"nao_eleito\"].sample(sample_size)\n",
    "\n",
    "samples_array = []\n",
    "\n",
    "samples_array.append(elected)\n",
    "samples_array.append(not_elected)\n",
    "\n",
    "df_balanced = pd.concat(samples_array)\n",
    "\n",
    "plot_groups(df_balanced)\n",
    "df_balanced.shape\n"
   ]
  },
  {
   "cell_type": "markdown",
   "metadata": {},
   "source": [
    "### Limpando e separando os dados em treino e Validação"
   ]
  },
  {
   "cell_type": "code",
   "execution_count": 6,
   "metadata": {},
   "outputs": [
    {
     "name": "stdout",
     "output_type": "stream",
     "text": [
      "all_data: (6644, 54)\n",
      "X_train:  (1436, 53)\n",
      "X_test (616, 53)\n",
      "Y_train (1436,)\n",
      "Y_test (616,)\n",
      "Unlabeled data:  (4592, 53)\n"
     ]
    }
   ],
   "source": [
    "all_data = pd.concat((df_balanced,df_unlabeled), sort=False)\n",
    "\n",
    "all_data = all_data.drop(columns=['nome','uf','nome', 'media_receita', 'media_despesa', 'cargo', 'estado_civil', 'ocupacao'])\n",
    "\n",
    "all_data['situacao'] = all_data['situacao'].map({'eleito': 1, 'nao_eleito': 0})\n",
    "\n",
    "# tranform categorical variables\n",
    "all_data = pd.get_dummies(all_data)\n",
    "\n",
    "df_labeled = all_data.loc[all_data['ano'] != 2014]\n",
    "\n",
    "df_unlabeled = all_data.loc[all_data['ano'] == 2014].drop(\"situacao\", 1)\n",
    "\n",
    "train = df_labeled.drop(\"situacao\", 1)\n",
    "\n",
    "# Split dataset into training set and test set\n",
    "X_train, X_test, Y_train, Y_test = train_test_split(train, df_labeled[\"situacao\"], test_size=0.3) # 70% training and 30% test\n",
    "\n",
    "print(\"all_data:\" , all_data.shape)\n",
    "print(\"X_train: \", X_train.shape)\n",
    "print(\"X_test\", X_test.shape)\n",
    "print(\"Y_train\", Y_train.shape)\n",
    "print(\"Y_test\", Y_test.shape)\n",
    "print(\"Unlabeled data: \", df_unlabeled.shape)\n"
   ]
  },
  {
   "cell_type": "markdown",
   "metadata": {},
   "source": [
    "### Cross validation + F1 score"
   ]
  },
  {
   "cell_type": "code",
   "execution_count": 7,
   "metadata": {},
   "outputs": [],
   "source": [
    "## function to get cross validation f1 score\n",
    "def f1_cv(model):\n",
    "    f1 = cross_val_score(model, X_train, Y_train, scoring='f1', cv=10)\n",
    "    return(f1)"
   ]
  },
  {
   "cell_type": "markdown",
   "metadata": {},
   "source": [
    "### Regressão Logística"
   ]
  },
  {
   "cell_type": "markdown",
   "metadata": {},
   "source": [
    "parâmetro tol = Tolerance for stopping criteria."
   ]
  },
  {
   "cell_type": "code",
   "execution_count": 8,
   "metadata": {},
   "outputs": [],
   "source": [
    "tols = [0.000001, 0.000002, 0.000003, 0.000004, 0.000005, 0.000006, 0.000007, 0.000008, 0.000009, 0.00001, 0.00002, 0.00003, 0.00004, 0.00005, 0.00006, 0.00007, 0.00008, 0.00009, 0.0001]\n",
    "cv_log_reg= [f1_cv(LogisticRegression(tol = tol, random_state=0)).mean() \n",
    "            for tol in tols]\n",
    "cv_log_reg = pd.Series(cv_log_reg, index = tols)"
   ]
  },
  {
   "cell_type": "code",
   "execution_count": 9,
   "metadata": {},
   "outputs": [
    {
     "name": "stdout",
     "output_type": "stream",
     "text": [
      "Best tol:  1e-06\n",
      "Best F1-score:  0.7652010200831005\n"
     ]
    },
    {
     "data": {
      "image/png": "[encoded data removed]",
      "text/plain": [
       "<Figure size 432x288 with 1 Axes>"
      ]
     },
     "metadata": {
      "needs_background": "light"
     },
     "output_type": "display_data"
    }
   ],
   "source": [
    "cv_log_reg.plot(title = \"Cross Validation - Logistic Regression\")\n",
    "plt.xlabel(\"Tol\")\n",
    "plt.ylabel(\"F1-score\")\n",
    "\n",
    "best_tol_reg_log = cv_log_reg.idxmax()\n",
    "\n",
    "print(\"Best tol: \", best_tol_reg_log)\n",
    "best_f1_reg_log = cv_log_reg.max()\n",
    "print(\"Best F1-score: \", best_f1_reg_log)\n",
    "\n",
    "#Best tol:  1e-06\n",
    "#Best F1-score:  0.7652010200831005"
   ]
  },
  {
   "cell_type": "code",
   "execution_count": 11,
   "metadata": {},
   "outputs": [
    {
     "name": "stdout",
     "output_type": "stream",
     "text": [
      "[0.72727273 0.73563218 0.60240964 0.72093023 0.71515152 0.73142857\n",
      " 0.76470588 0.66666667 0.72611465 0.77456647]\n"
     ]
    },
    {
     "data": {
      "text/plain": [
       "0.7045454545454546"
      ]
     },
     "execution_count": 11,
     "metadata": {},
     "output_type": "execute_result"
    }
   ],
   "source": [
    "log_reg_model = LogisticRegression(random_state=0)\n",
    "log_reg_model.fit(X_train, Y_train)\n",
    "\n",
    "print(f1_cv(log_reg_model))\n",
    "\n",
    "log_reg_model.score(X_test, Y_test)\n"
   ]
  },
  {
   "cell_type": "markdown",
   "metadata": {},
   "source": [
    "### KNN\n"
   ]
  },
  {
   "cell_type": "code",
   "execution_count": 12,
   "metadata": {},
   "outputs": [],
   "source": [
    "neighbors = [1,2,3,4,5,6,7,8,9,10,11,12,14,16,20,22,24,26,28,29,30,35,40,42,45,47,50,55,60]\n",
    "\n",
    "cv_knn = [f1_cv(KNeighborsClassifier(n_neighbors=neighbor)).mean() \n",
    "            for neighbor in neighbors]\n",
    "cv_knn = pd.Series(cv_knn, index = neighbors)\n"
   ]
  },
  {
   "cell_type": "code",
   "execution_count": 13,
   "metadata": {},
   "outputs": [
    {
     "name": "stdout",
     "output_type": "stream",
     "text": [
      "Best number of neighbors:  5\n",
      "Best F1:  0.8663871817437354\n"
     ]
    },
    {
     "data": {
      "image/png": "[encoded data removed]",
      "text/plain": [
       "<Figure size 432x288 with 1 Axes>"
      ]
     },
     "metadata": {
      "needs_background": "light"
     },
     "output_type": "display_data"
    }
   ],
   "source": [
    "cv_knn.plot(title = \"Cross Validation - KNN\")\n",
    "plt.xlabel(\"Neighbors\")\n",
    "plt.ylabel(\"F1-score\")\n",
    "\n",
    "best_neighbor = cv_knn.idxmax()\n",
    "\n",
    "print(\"Best number of neighbors: \", best_neighbor)\n",
    "best_f1_knn = cv_knn.max()\n",
    "print(\"Best F1: \", best_f1_knn)\n",
    "\n",
    "#Best number of neighbors:  5\n",
    "#Best F1:  0.8663871817437354"
   ]
  },
  {
   "cell_type": "code",
   "execution_count": 14,
   "metadata": {},
   "outputs": [
    {
     "data": {
      "text/plain": [
       "0.8977272727272727"
      ]
     },
     "execution_count": 14,
     "metadata": {},
     "output_type": "execute_result"
    }
   ],
   "source": [
    "best_knn = KNeighborsClassifier(n_neighbors=best_neighbor)\n",
    "best_knn.fit(X_train, Y_train)\n",
    "\n",
    "best_knn.score(X_test, Y_test)\n",
    "\n",
    "#0.8977272727272727"
   ]
  },
  {
   "cell_type": "markdown",
   "metadata": {},
   "source": [
    "### Árvore de Decisão"
   ]
  },
  {
   "cell_type": "code",
   "execution_count": 15,
   "metadata": {},
   "outputs": [],
   "source": [
    "depths = np.arange(150,350,10).tolist()\n",
    "\n",
    "cv_dtc= [f1_cv(DecisionTreeClassifier(max_depth=depth)).mean() \n",
    "            for depth in depths]\n",
    "cv_dtc = pd.Series(cv_dtc, index = depths)"
   ]
  },
  {
   "cell_type": "code",
   "execution_count": 17,
   "metadata": {},
   "outputs": [
    {
     "name": "stdout",
     "output_type": "stream",
     "text": [
      "Best depth:  270\n",
      "Best F1:  0.8500963258832573\n"
     ]
    },
    {
     "data": {
      "image/png": "[encoded data removed]",
      "text/plain": [
       "<Figure size 432x288 with 1 Axes>"
      ]
     },
     "metadata": {
      "needs_background": "light"
     },
     "output_type": "display_data"
    }
   ],
   "source": [
    "cv_dtc.plot(title = \"Cross Validation - Decision Tree\")\n",
    "plt.xlabel(\"Depths\")\n",
    "plt.ylabel(\"F1-score\")\n",
    "\n",
    "best_depth_dtc = cv_dtc.idxmax()\n",
    "\n",
    "print(\"Best depth: \", best_depth_dtc)\n",
    "best_f1_dtc = cv_dtc.max()\n",
    "print(\"Best F1: \", best_f1_dtc)\n",
    "\n",
    "#Best depth:  270\n",
    "#Best F1:  0.8500963258832573"
   ]
  },
  {
   "cell_type": "code",
   "execution_count": 18,
   "metadata": {},
   "outputs": [
    {
     "data": {
      "text/plain": [
       "array([0., 0., 1., ..., 0., 0., 0.])"
      ]
     },
     "execution_count": 18,
     "metadata": {},
     "output_type": "execute_result"
    }
   ],
   "source": [
    "best_dtc = DecisionTreeClassifier(max_depth=best_depth_dtc)\n",
    "best_dtc.fit(X_train, Y_train)\n",
    "best_dtc.score(X_test, Y_test)\n",
    "\n",
    "best_dtc.predict(df_unlabeled)"
   ]
  },
  {
   "cell_type": "markdown",
   "metadata": {},
   "source": [
    "### Adaboost"
   ]
  },
  {
   "cell_type": "code",
   "execution_count": 19,
   "metadata": {},
   "outputs": [],
   "source": [
    "estimators=np.arange(50,250,10).tolist()"
   ]
  },
  {
   "cell_type": "code",
   "execution_count": 20,
   "metadata": {},
   "outputs": [],
   "source": [
    "learning_rates = np.arange(0.01,2,0.1).tolist()\n",
    "\n",
    "cv_abdt= [f1_cv(AdaBoostClassifier(DecisionTreeClassifier(max_depth=1), \n",
    "                                   algorithm=\"SAMME.R\", random_state=0,\n",
    "                                  learning_rate=learning_rate)).mean() \n",
    "            for learning_rate in learning_rates]\n",
    "cv_abdt = pd.Series(cv_abdt, index = learning_rates)"
   ]
  },
  {
   "cell_type": "code",
   "execution_count": 21,
   "metadata": {},
   "outputs": [],
   "source": [
    "#cv_abdt= [f1_cv(AdaBoostClassifier(DecisionTreeClassifier(max_depth=1), \n",
    " #                                  algorithm=\"SAMME.R\", random_state=0,\n",
    " #                                 n_estimators=estimator)).mean() \n",
    " #           for estimator in estimators]\n",
    "#cv_abdt = pd.Series(cv_abdt, index = learning_rates)"
   ]
  },
  {
   "cell_type": "code",
   "execution_count": 24,
   "metadata": {},
   "outputs": [
    {
     "name": "stdout",
     "output_type": "stream",
     "text": [
      "Best learning rate:  0.51\n",
      "Best F1:  0.9067472175482983\n"
     ]
    },
    {
     "data": {
      "image/png": "[encoded data removed]",
      "text/plain": [
       "<Figure size 432x288 with 1 Axes>"
      ]
     },
     "metadata": {
      "needs_background": "light"
     },
     "output_type": "display_data"
    }
   ],
   "source": [
    "cv_abdt.plot(title = \"Cross Validation - Adaboot Decision Tree\")\n",
    "plt.xlabel(\"learning rates\")\n",
    "plt.ylabel(\"F1-score\")\n",
    "\n",
    "best_lr_abdt = cv_abdt.idxmax()\n",
    "\n",
    "print(\"Best learning rate: \", best_lr_abdt)\n",
    "best_f1_abdt = cv_abdt.max()\n",
    "print(\"Best F1: \", best_f1_abdt)\n",
    "\n",
    "#Best learning rate:  0.51\n",
    "#Best F1:  0.9067472175482983"
   ]
  },
  {
   "cell_type": "code",
   "execution_count": 34,
   "metadata": {},
   "outputs": [
    {
     "name": "stdout",
     "output_type": "stream",
     "text": [
      "0.8685064935064936\n"
     ]
    },
    {
     "data": {
      "text/plain": [
       "array([0., 0., 1., ..., 0., 0., 0.])"
      ]
     },
     "execution_count": 34,
     "metadata": {},
     "output_type": "execute_result"
    }
   ],
   "source": [
    "best_dtc = DecisionTreeClassifier(max_depth=best_depth_dtc)\n",
    "best_dtc.fit(X_train, Y_train)\n",
    "\n",
    "print(best_dtc.score(X_test, Y_test))\n",
    "\n",
    "predictions = best_dtc.predict(df_unlabeled)\n",
    "predictions"
   ]
  },
  {
   "cell_type": "code",
   "execution_count": 36,
   "metadata": {},
   "outputs": [],
   "source": [
    "envio = pd.read_csv(\"data/sample_submission.csv\")\n",
    "\n",
    "envio[\"Predicted\"] = predictions\n",
    "envio[\"Predicted\"] = envio[\"Predicted\"].replace([0, 1],['nao_eleito', 'eleito'])\n",
    "envio.to_csv(\"data/submission.csv\")"
   ]
  },
  {
   "cell_type": "code",
   "execution_count": null,
   "metadata": {},
   "outputs": [],
   "source": []
  },
  {
   "cell_type": "markdown",
   "metadata": {},
   "source": [
    "Links e Referências:\n",
    "\n",
    "* [BAR CHART ANNOTATIONS WITH PANDAS AND MATPLOTLIB](http://robertmitchellv.com/blog-bar-chart-annotations-pandas-mpl.html)\n",
    "\n",
    "* [Um Estudo de Limpeza em Base de Dados Desbalanceada\n",
    "com Sobreposição de Classes](https://www.cos.ufrj.br/~ines/enia07_html/pdf/28076.pdf)\n",
    "\n",
    "* [Pré-processamento de dados](https://edisciplinas.usp.br/pluginfile.php/4052836/mod_resource/content/4/mineracaodadosbiologicos-parte3.pdf)\n",
    "* [KNN Classification using Scikit-learn](https://www.datacamp.com/community/tutorials/k-nearest-neighbor-classification-scikit-learn)\n",
    "* [A Complete Guide to K-Nearest-Neighbors with Applications in Python and R](https://kevinzakka.github.io/2016/07/13/k-nearest-neighbor/)"
   ]
  },
  {
   "cell_type": "code",
   "execution_count": null,
   "metadata": {},
   "outputs": [],
   "source": []
  },
  {
   "cell_type": "code",
   "execution_count": null,
   "metadata": {},
   "outputs": [],
   "source": []
  },
  {
   "cell_type": "code",
   "execution_count": null,
   "metadata": {},
   "outputs": [],
   "source": []
  },
  {
   "cell_type": "code",
   "execution_count": null,
   "metadata": {},
   "outputs": [],
   "source": []
  }
 ],
 "metadata": {
  "kernelspec": {
   "display_name": "Python 3",
   "language": "python",
   "name": "python3"
  },
  "language_info": {
   "codemirror_mode": {
    "name": "ipython",
    "version": 3
   },
   "file_extension": ".py",
   "mimetype": "text/x-python",
   "name": "python",
   "nbconvert_exporter": "python",
   "pygments_lexer": "ipython3",
   "version": "3.7.0"
  }
 },
 "nbformat": 4,
 "nbformat_minor": 2
}
