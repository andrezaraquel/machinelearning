{
 "cells": [
  {
   "cell_type": "markdown",
   "metadata": {},
   "source": [
    "- Tunar os hiperâmetros para cada caso e retornar os rmses de validação cruzada para todos os modelos avaliados.\n",
    "\n",
    "- Plotar os resíduos versus predições e analisar se esses plots representam bons indícios da adequabilidade dos modelos a esse problema.\n",
    " \n",
    "- Alguns dias antes da entrega final serão liberados os dados de teste referentes à 2014 para validação final dos seus melhores modelos. \n",
    "    - Dica: Uma coisa que você pode fazer é usar os dados de 2006 como treino e os de 2010 como validação. Uma vez encontrados os melhores modelos para 2010 junte 2006+2010, retreine, e aplique o modelo aos dados de 2014 que serão liberados.\n",
    " \n",
    "- Responder: \n",
    "    - Dentre os modelos avaliados, qual foi o que deu o melhor resultado nos dados de 2014 em termos de RMSE? Justifique bem sua resposta."
   ]
  },
  {
   "cell_type": "code",
   "execution_count": null,
   "metadata": {},
   "outputs": [],
   "source": [
    "import pandas as pd\n",
    "import numpy as np\n",
    "import matplotlib.pyplot as plt\n",
    "\n",
    "from sklearn import linear_model\n",
    "from sklearn.linear_model import Ridge, RidgeCV, ElasticNet, LassoCV, LassoLarsCV\n",
    "from sklearn.model_selection import cross_val_score\n",
    "\n",
    "from sklearn.neighbors import KNeighborsRegressor\n",
    "from sklearn.ensemble import RandomForestRegressor\n",
    "from sklearn.svm import SVR\n",
    "\n",
    "from sklearn.metrics import mean_squared_error"
   ]
  },
  {
   "cell_type": "markdown",
   "metadata": {},
   "source": [
    "# 1 Dados\n",
    "\n",
    "## 1.1 Lendo os Dados"
   ]
  },
  {
   "cell_type": "code",
   "execution_count": null,
   "metadata": {},
   "outputs": [],
   "source": [
    "eleicoes = pd.read_csv(\"eleicoes_2006_a_2010.csv\")\n",
    "df_eleicoes_2006_2010 = pd.DataFrame(eleicoes) # load the dataset as a pandas data frame\n",
    "df_eleicoes_2006_2010.head(10)\n",
    "#df_eleicoes.columns"
   ]
  },
  {
   "cell_type": "code",
   "execution_count": null,
   "metadata": {},
   "outputs": [],
   "source": [
    "eleicoes_2014 = pd.read_csv(\"eleicoes_2014.csv\")\n",
    "df_eleicoes_2014 = pd.DataFrame(eleicoes_2014) # load the dataset as a pandas data frame\n",
    "\n",
    "df_eleicoes_2014.columns = ['ano', 'sequencial_candidato', 'nome', 'uf', 'partido',\n",
    "       'quantidade_doacoes', 'quantidade_doadores', 'total_receita',\n",
    "       'media_receita', 'recursos_de_outros_candidatos/comites',\n",
    "       'recursos_de_pessoas_fisicas', 'recursos_de_pessoas_juridicas',\n",
    "       'recursos_proprios', 'quantidade_despesas', 'quantidade_fornecedores',\n",
    "       'total_despesa', 'media_despesa', 'cargo', 'sexo', 'grau',\n",
    "       'estado_civil', 'ocupacao', 'votos']\n",
    "df_eleicoes_2014.head(10)\n"
   ]
  },
  {
   "cell_type": "code",
   "execution_count": null,
   "metadata": {},
   "outputs": [],
   "source": [
    "df = [df_eleicoes_2006_2010, df_eleicoes_2014]\n",
    "\n",
    "df_eleicoes = pd.concat(df)"
   ]
  },
  {
   "cell_type": "markdown",
   "metadata": {},
   "source": [
    "##  1.2 Distribuição das Variáveis"
   ]
  },
  {
   "cell_type": "code",
   "execution_count": null,
   "metadata": {},
   "outputs": [],
   "source": [
    "# function to plot a histogram of each variable\n",
    "def plot_histogram(df, feature):\n",
    "    # log (feature + 1) because of features with values 0\n",
    "    feature = pd.DataFrame({\"1. \" + feature: df[feature], \"2. log(\" + feature + \")\": np.log1p(df[feature])})\n",
    "    feature.hist(bins = 20) \n",
    "\n",
    "# function to transform skewed variables using log(feature + 1)\n",
    "def transform_skewed_var(df, feature):\n",
    "    df[feature] = np.log1p(df[feature])\n",
    "    \n",
    "columns = \"quantidade_doacoes quantidade_doadores total_receita media_receita recursos_de_outros_candidatos/comites recursos_de_pessoas_fisicas recursos_de_pessoas_juridicas recursos_proprios quantidade_despesas quantidade_fornecedores total_despesa media_despesa votos\".split()\n",
    "\n",
    "for feature in columns:\n",
    "    plot_histogram(df_eleicoes, feature)\n",
    "    transform_skewed_var(df_eleicoes, feature)"
   ]
  },
  {
   "cell_type": "markdown",
   "metadata": {},
   "source": [
    "## 1.3 Tratando Valores Ausentes"
   ]
  },
  {
   "cell_type": "code",
   "execution_count": null,
   "metadata": {},
   "outputs": [],
   "source": [
    "df_eleicoes.isnull().any()"
   ]
  },
  {
   "cell_type": "code",
   "execution_count": null,
   "metadata": {},
   "outputs": [],
   "source": [
    "#filling NA's with the mean of the column:\n",
    "df_eleicoes = df_eleicoes.fillna(df_eleicoes.mean())\n",
    "\n",
    "df_eleicoes.isnull().any()"
   ]
  },
  {
   "cell_type": "markdown",
   "metadata": {},
   "source": [
    "## 1.4 Tratando Variáveis Categóricas"
   ]
  },
  {
   "cell_type": "code",
   "execution_count": null,
   "metadata": {},
   "outputs": [],
   "source": [
    "df_eleicoes = df_eleicoes.drop(\"nome\", 1).drop(\"sequencial_candidato\", 1)\n",
    "df_eleicoes = pd.get_dummies(df_eleicoes)\n",
    "\n",
    "df_eleicoes.head()"
   ]
  },
  {
   "cell_type": "markdown",
   "metadata": {},
   "source": [
    "## 1.5 Divisão dos Dados em Treino, Validação e Teste"
   ]
  },
  {
   "cell_type": "code",
   "execution_count": null,
   "metadata": {},
   "outputs": [],
   "source": [
    "df_train_2006 = df_eleicoes.loc[df_eleicoes[\"ano\"] == 2006]\n",
    "Y_train_2006 = df_train_2006.votos\n",
    "X_train_2006 = df_train_2006.drop(\"votos\", 1)\n",
    "print(X_train_2006.shape)\n",
    "print(Y_train_2006.shape)\n",
    "\n",
    "df_validation_2010 = df_eleicoes.loc[df_eleicoes[\"ano\"] == 2010]\n",
    "Y_validation_2010 = df_validation_2010.votos\n",
    "X_validation_2010 = df_validation_2010.drop(\"votos\", 1)\n",
    "print(X_validation_2010.shape)\n",
    "print(Y_validation_2010.shape)\n",
    "\n"
   ]
  },
  {
   "cell_type": "code",
   "execution_count": null,
   "metadata": {},
   "outputs": [],
   "source": [
    "df_train_validation = [df_train_2006, df_validation_2010]\n",
    "df_train_2006_2010 = pd.concat(df_train_validation)\n",
    "Y_train_2006_2010 = df_train_2006_2010.votos\n",
    "X_train_2006_2010 = df_train_2006_2010.drop(\"votos\", 1)\n",
    "print(X_train_2006_2010.shape)\n",
    "print(Y_train_2006_2010.shape)"
   ]
  },
  {
   "cell_type": "code",
   "execution_count": null,
   "metadata": {},
   "outputs": [],
   "source": [
    "df_test_2014 = df_eleicoes.loc[df_eleicoes[\"ano\"] == 2014]\n",
    "Y_test_2014 = df_test_2014.votos\n",
    "X_test_2014 = df_test_2014.drop(\"votos\", 1)\n",
    "print(X_test_2014.shape)\n",
    "print(Y_test_2014.shape)"
   ]
  },
  {
   "cell_type": "markdown",
   "metadata": {},
   "source": [
    "# 2 Funções "
   ]
  },
  {
   "cell_type": "code",
   "execution_count": null,
   "metadata": {},
   "outputs": [],
   "source": [
    "def plot_residuals_vs_fit(X,Y, model, title):   \n",
    "    y_pred = model.predict(X)\n",
    "    res = Y - y_pred\n",
    "    plt.rcParams['figure.figsize'] = (8.0, 8.0)\n",
    "    plt.plot(y_pred,res,'k.',color='blue',)\n",
    "    plt.axhline(y=0., color='r', linestyle='-')\n",
    "    plt.title(title)\n",
    "    plt.xlabel(\"predictions\")\n",
    "    plt.ylabel(\"residuals\")"
   ]
  },
  {
   "cell_type": "code",
   "execution_count": null,
   "metadata": {},
   "outputs": [],
   "source": [
    "## function to get cross validation rmse\n",
    "def rmse_cv(model):\n",
    "    rmse = np.sqrt(-cross_val_score(model, X_train_2006, Y_train_2006, scoring=\"neg_mean_squared_error\", cv = 5))\n",
    "    return(rmse)"
   ]
  },
  {
   "cell_type": "markdown",
   "metadata": {},
   "source": [
    "# 3 Modelos"
   ]
  },
  {
   "cell_type": "markdown",
   "metadata": {},
   "source": [
    "## 3.1 Modelo Sem Regularização "
   ]
  },
  {
   "cell_type": "code",
   "execution_count": null,
   "metadata": {},
   "outputs": [],
   "source": [
    "linear_reg = linear_model.LinearRegression() # this creates a linear regression object\n",
    "linear_reg.fit(X_train_2006,Y_train_2006) #this function fits a linear model\n",
    "\n",
    "print(\"error (R²): \", linear_reg.score(X_validation_2010,Y_validation_2010))"
   ]
  },
  {
   "cell_type": "markdown",
   "metadata": {},
   "source": [
    "## 3.2 Ridge"
   ]
  },
  {
   "cell_type": "markdown",
   "metadata": {},
   "source": [
    "###  3.2.1  Ridge  + Validação Cruzada"
   ]
  },
  {
   "cell_type": "code",
   "execution_count": null,
   "metadata": {},
   "outputs": [],
   "source": [
    "alphas = [0.05, 0.1, 0.3, 1, 3, 5, 10, 15, 20, 25, 30, 35, 40, 45, 50, 60, 75]\n",
    "cv_ridge = [rmse_cv(Ridge(alpha = alpha)).mean() \n",
    "            for alpha in alphas]\n",
    "cv_ridge = pd.Series(cv_ridge, index = alphas)"
   ]
  },
  {
   "cell_type": "code",
   "execution_count": null,
   "metadata": {},
   "outputs": [],
   "source": [
    "cv_ridge.plot(title = \"Cross Validation - Ridge\")\n",
    "plt.xlabel(\"Alpha\")\n",
    "plt.ylabel(\"RMSE\")\n",
    "\n",
    "best_alpha_ridge = cv_ridge.idxmin()\n",
    "\n",
    "print(\"Best alpha: \", best_alpha_ridge)\n",
    "print(\"Best RMSE: \", cv_ridge.min())"
   ]
  },
  {
   "cell_type": "markdown",
   "metadata": {},
   "source": [
    "### 3.2.2 Melhor Modelo Ridge + Gráfico de Resíduos"
   ]
  },
  {
   "cell_type": "code",
   "execution_count": null,
   "metadata": {},
   "outputs": [],
   "source": [
    "best_ridge = Ridge(alpha = best_alpha_ridge)\n",
    "best_ridge.fit(X_train_2006, Y_train_2006)\n",
    "\n",
    "score = best_ridge.score(X_validation_2010, Y_validation_2010)\n",
    "print(\"R²: \", score)\n",
    "\n",
    "plot_residuals_vs_fit(X_validation_2010, Y_validation_2010, best_ridge, \"Residuals Ridge\")\n"
   ]
  },
  {
   "cell_type": "markdown",
   "metadata": {},
   "source": [
    "## 3.3 Lasso"
   ]
  },
  {
   "cell_type": "markdown",
   "metadata": {},
   "source": [
    "### 3.3.1  Lasso + Validação Cruzada"
   ]
  },
  {
   "cell_type": "code",
   "execution_count": null,
   "metadata": {},
   "outputs": [],
   "source": [
    "alphas = [0.005, 0.0005, 0.0004, 0.0003, 0.0002, 0.0001, 0.00005]\n",
    "cv_lasso = [rmse_cv(linear_model.Lasso(alpha = alpha, max_iter = 10000)).mean() \n",
    "            for alpha in alphas]\n",
    "\n",
    "cv_lasso = pd.Series(cv_lasso, index = alphas)\n"
   ]
  },
  {
   "cell_type": "code",
   "execution_count": null,
   "metadata": {},
   "outputs": [],
   "source": [
    "cv_lasso.plot(title = \"Cross Validation - Lasso\")\n",
    "plt.xlabel(\"Alpha\")\n",
    "plt.ylabel(\"RMSE\")\n",
    "\n",
    "best_alpha_lasso =  cv_lasso.idxmin()\n",
    "print(\"Best alpha: \",  best_alpha_lasso)\n",
    "print(\"Best RMSE: \", cv_lasso.min())"
   ]
  },
  {
   "cell_type": "markdown",
   "metadata": {},
   "source": [
    "### 3.3.2 Melhor Modelo Lasso + Gráfico de Resíduos"
   ]
  },
  {
   "cell_type": "code",
   "execution_count": null,
   "metadata": {},
   "outputs": [],
   "source": [
    "best_lasso = linear_model.Lasso(alpha = best_alpha_lasso, max_iter = 10000)\n",
    "best_lasso.fit(X_train_2006, Y_train_2006)\n",
    "\n",
    "print(\"R²: \", best_lasso.score(X_validation_2010, Y_validation_2010))\n",
    "plot_residuals_vs_fit(X_validation_2010, Y_validation_2010, best_lasso, \"Residuals Lasso\")"
   ]
  },
  {
   "cell_type": "markdown",
   "metadata": {},
   "source": [
    "### 3.3.3 Parâmetros"
   ]
  },
  {
   "cell_type": "code",
   "execution_count": null,
   "metadata": {},
   "outputs": [],
   "source": [
    "coef = pd.Series(best_lasso.coef_, index = X_train_2006.columns)\n",
    "print(\"Lasso picked \" + str(sum(coef != 0)) + \" variables and eliminated the other \" +  str(sum(coef == 0)) + \" variables\")"
   ]
  },
  {
   "cell_type": "code",
   "execution_count": null,
   "metadata": {},
   "outputs": [],
   "source": [
    "imp_coef = pd.concat([coef.sort_values().head(10),\n",
    "                     coef.sort_values().tail(10)])\n",
    "\n",
    "plt.rcParams['figure.figsize'] = (8.0, 10.0)\n",
    "imp_coef.plot(kind = \"barh\")\n",
    "plt.title(\"Importance Of Coefficients in the Lasso Model\")"
   ]
  },
  {
   "cell_type": "markdown",
   "metadata": {},
   "source": [
    "## 3.4 KNN "
   ]
  },
  {
   "cell_type": "markdown",
   "metadata": {},
   "source": [
    "### 3.4.1 KNN  + Validação Cruzada"
   ]
  },
  {
   "cell_type": "code",
   "execution_count": null,
   "metadata": {},
   "outputs": [],
   "source": [
    "neighbors = [1,2,3,4,5,10,12,14,16,20,22,24,26,28,29,30,35,40,42,45,47,50,55,60]\n",
    "cv_knn = [rmse_cv(KNeighborsRegressor(n_neighbors = neighbor)).mean() \n",
    "            for neighbor in neighbors]\n",
    "\n",
    "cv_knn = pd.Series(cv_knn, index = neighbors)"
   ]
  },
  {
   "cell_type": "code",
   "execution_count": null,
   "metadata": {},
   "outputs": [],
   "source": [
    "cv_knn.plot(title = \"Cross Validation - KNN\")\n",
    "plt.xlabel(\"Neighbors\")\n",
    "plt.ylabel(\"RMSE\")\n",
    "\n",
    "best_n_neighbor =  cv_knn.argmin()\n",
    "print(\"Best neighbor: \",  best_n_neighbor)\n",
    "print(\"Best RMSE: \", cv_knn.min())"
   ]
  },
  {
   "cell_type": "markdown",
   "metadata": {},
   "source": [
    "### 3.4.2 Melhor Modelo KNN + Gráfico de Resíduos"
   ]
  },
  {
   "cell_type": "code",
   "execution_count": null,
   "metadata": {},
   "outputs": [],
   "source": [
    "best_knn = KNeighborsRegressor(n_neighbors = best_n_neighbor)\n",
    "best_knn.fit(X_train_2006, Y_train_2006) \n",
    "\n",
    "print(\"R²: \", best_knn.score(X_validation_2010, Y_validation_2010))\n",
    "\n",
    "plot_residuals_vs_fit(X_validation_2010, Y_validation_2010, best_knn, \"Residuals KNN\")"
   ]
  },
  {
   "cell_type": "markdown",
   "metadata": {},
   "source": [
    "## 3.5 Random Forest"
   ]
  },
  {
   "cell_type": "markdown",
   "metadata": {},
   "source": [
    "### 3.5.1 Random Forest + Validação Cruzada"
   ]
  },
  {
   "cell_type": "code",
   "execution_count": null,
   "metadata": {},
   "outputs": [],
   "source": [
    "random_forest_model = RandomForestRegressor()\n",
    "random_forest_model.fit(X_train_2006, Y_train_2006)\n",
    "\n",
    "print(\"Score: \", random_forest_model.score(X_validation_2010, Y_validation_2010))\n",
    "print(\"---Feature importances (the higher, the more important the feature)---\")\n",
    "print(random_forest_model.feature_importances_)"
   ]
  },
  {
   "cell_type": "markdown",
   "metadata": {},
   "source": [
    "### 3.5.2 Melhor Modelo Random Forest + Gráfico de Resíduos"
   ]
  },
  {
   "cell_type": "markdown",
   "metadata": {},
   "source": [
    "## 3.6 SVR"
   ]
  },
  {
   "cell_type": "markdown",
   "metadata": {},
   "source": [
    "### 3.6.1 SVR  + Validação Cruzada"
   ]
  },
  {
   "cell_type": "code",
   "execution_count": null,
   "metadata": {},
   "outputs": [],
   "source": [
    "svr_model = SVR()\n",
    "svr_model.fit(X_train_2006, Y_train_2006) \n",
    "\n",
    "print(\"Score: \", svr_model.score(X_validation_2010, Y_validation_2010))"
   ]
  },
  {
   "cell_type": "markdown",
   "metadata": {},
   "source": [
    "### 3.6.2 Melhor Modelo SVR + Gráfico de Resíduos"
   ]
  },
  {
   "cell_type": "markdown",
   "metadata": {},
   "source": [
    "# 4 Usando os melhores modelos "
   ]
  },
  {
   "cell_type": "markdown",
   "metadata": {},
   "source": [
    "## 4.3 Testando o melhor Ridge"
   ]
  },
  {
   "cell_type": "code",
   "execution_count": null,
   "metadata": {},
   "outputs": [],
   "source": [
    "best_ridge.fit(X_train_2006_2010, Y_train_2006_2010)\n",
    "\n",
    "Y_pred = best_ridge.predict(X_test_2014)\n",
    "\n",
    "#print(y_pred.shape)\n",
    "\n",
    "#print(mean_squared_error(Y_test_2014, Y_pred))"
   ]
  },
  {
   "cell_type": "markdown",
   "metadata": {},
   "source": [
    "# 5 Conclusões"
   ]
  },
  {
   "cell_type": "code",
   "execution_count": null,
   "metadata": {},
   "outputs": [],
   "source": []
  }
 ],
 "metadata": {
  "kernelspec": {
   "display_name": "Python 3",
   "language": "python",
   "name": "python3"
  },
  "language_info": {
   "codemirror_mode": {
    "name": "ipython",
    "version": 3
   },
   "file_extension": ".py",
   "mimetype": "text/x-python",
   "name": "python",
   "nbconvert_exporter": "python",
   "pygments_lexer": "ipython3",
   "version": "3.6.5"
  }
 },
 "nbformat": 4,
 "nbformat_minor": 2
}
